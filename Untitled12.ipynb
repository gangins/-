{
  "nbformat": 4,
  "nbformat_minor": 0,
  "metadata": {
    "colab": {
      "provenance": [],
      "authorship_tag": "ABX9TyOwnl+7zLaUQiun/bPZOBbt",
      "include_colab_link": true
    },
    "kernelspec": {
      "name": "python3",
      "display_name": "Python 3"
    },
    "language_info": {
      "name": "python"
    }
  },
  "cells": [
    {
      "cell_type": "markdown",
      "metadata": {
        "id": "view-in-github",
        "colab_type": "text"
      },
      "source": [
        "<a href=\"https://colab.research.google.com/github/gangins/-/blob/main/Untitled12.ipynb\" target=\"_parent\"><img src=\"https://colab.research.google.com/assets/colab-badge.svg\" alt=\"Open In Colab\"/></a>"
      ]
    },
    {
      "cell_type": "code",
      "execution_count": 8,
      "metadata": {
        "colab": {
          "base_uri": "https://localhost:8080/"
        },
        "id": "h88IwLnA6f7W",
        "outputId": "7e632156-a474-40fb-938a-48f602c4f4f2"
      },
      "outputs": [
        {
          "output_type": "stream",
          "name": "stdout",
          "text": [
            "aeimnjfghlp\n"
          ]
        }
      ],
      "source": [
        "def solve_maze(g, start, end):\n",
        "  qu = [] #기억장소 1: 앞으로 처리해야할 이동경로 q에저장\n",
        "  done = set() #기억장소 2: 이미 큐에 추가한 꼭짓점들을 집합에 기록(중복의 방지)\n",
        "\n",
        "  qu.append(start) #출발점을 큐에 넣고 시작\n",
        "  done.add(start)  #집합에도 추가\n",
        "\n",
        "  while qu:             #큐에서 처리할 경로가 남아있으면\n",
        "    p = qu.pop(0)       #큐에서 처리 대상을 꺼냄\n",
        "    v = p[-1]           #큐에서 저장된 이동경로의 마자막 문자가 현재 처리해야할 꼭짓점\n",
        "    if v == end:        #처리해야할 꼭짓점이 도착점이면\n",
        "      return p          #지금까지의 전체 이동경로를 돌려주고 종료\n",
        "    for x in g[v]:      #대상 꼭짓점에 연결된 꼭짓점 중에\n",
        "      if x not in done:   #아직 큐에 추가된 적 없는 꼭짓점을\n",
        "        qu.append(p+x)    #이동 경로에 새꼭짓점으로 추가하여 큐에 저장하고 \n",
        "        done.add(x)       #집합에도 추가\n",
        "\n",
        "    #탐색을 마칠 때까지 도착점이 나오지 않으면 나갈 수 없는 미로임\n",
        "  return \"?\"\n",
        "\n",
        "\n",
        "#미로정보\n",
        "#미로의 각 위치에 알파벳으로 이름저장\n",
        "#각 위치에서 한 번에 이동할 수있는 모든 위치를 선으로 연결하여 그래프로 표현\n",
        "\n",
        "maze ={\n",
        "    'a' : ['e'],\n",
        "    'b' : ['c', 'f'],\n",
        "    'c' : ['b', 'd'],\n",
        "    'd' : ['c'],\n",
        "    'e' : ['a', 'i'],\n",
        "    'f' : ['b', 'g', 'j'],\n",
        "    'g' : ['f', 'h'],\n",
        "    'h' : ['g','l'],\n",
        "    'i' : ['e','m'],\n",
        "    'j' : ['f','k','n'],\n",
        "    'k' : ['j', 'o'],\n",
        "    'l' : ['h', 'p'],\n",
        "    'm' : ['i','n'],\n",
        "    'n' : ['m', 'j'],\n",
        "    'o' : ['k'],\n",
        "    'p' : ['l']\n",
        " \n",
        "\n",
        "}\n",
        "\n",
        "\n",
        "print(solve_maze(maze, 'a', 'p'))\n",
        "    \n",
        "\n"
      ]
    },
    {
      "cell_type": "code",
      "source": [
        "from typing_extensions import LiteralString\n",
        "#주어진 동전 n개 중에 가짜 동전(fake)을 찾아내는 알고리즘\n",
        "#입력: 전체 동전 위치의 시작과 끝(0,n-1)\n",
        "#출력: 가짜동전의 위치 번호\n",
        "\n",
        "#무게 재기 함수\n",
        "#a에서 b까지 놓인 동전과\n",
        "#c에서 d까지 놓인 동전의 무게를 비교\n",
        "#a에서 b까지에 가짜동전이 있으면(가벼우면): -1\n",
        "#c에서 d까지에 가짜동전이 있으면(가벼우면): 1\n",
        "#가짜 동전이 없으면(양쪽 무게가 같으면):0\n",
        "\n",
        "\n",
        "def weigh(a,b,c,d):\n",
        "  fake = 29 #가짜동전의 위치(알고리즘은 weigh 함수를 이용하여 이 값을 맞혀야함 )\n",
        "  if a <= fake and fake <= b:\n",
        "    return -1\n",
        "  if c<= fake and fake <= d:\n",
        "    return 1\n",
        "  return 0\n",
        "\n",
        "#weigh()함수(저울질)를 통하여\n",
        "#left에서 right까지에 놓인 가짜 동전의 위치를 찾아냄 \n",
        "\n",
        "def find_fakecoin(left, right):\n",
        "  for i in range(left + 1, right +1): #left+1부터 right 까지 반복\n",
        "      #가장 왼쪽 동전과 나머지 동전을 차례로 비교\n",
        "      result = weigh(left, left, i, i)\n",
        "      if result == -1:\n",
        "        return left\n",
        "\n",
        "      elif result == 1:\n",
        "        return i\n",
        "\n",
        "  return -1 \n",
        "\n",
        "n =100 # 전체동전의 개수\n",
        "\n",
        "print(find_fakecoin(0,n-1))"
      ],
      "metadata": {
        "colab": {
          "base_uri": "https://localhost:8080/"
        },
        "id": "lioQJ5I2_FJf",
        "outputId": "b08e9ffe-c617-49e1-a30d-511b246e3ed1"
      },
      "execution_count": 9,
      "outputs": [
        {
          "output_type": "stream",
          "name": "stdout",
          "text": [
            "29\n"
          ]
        }
      ]
    }
  ]
}