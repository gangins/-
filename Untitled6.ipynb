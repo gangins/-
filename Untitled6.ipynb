{
  "nbformat": 4,
  "nbformat_minor": 0,
  "metadata": {
    "colab": {
      "name": "Untitled6.ipynb",
      "provenance": [],
      "collapsed_sections": [],
      "authorship_tag": "ABX9TyPFI1NVs43rE+GVh1ksjR2X",
      "include_colab_link": true
    },
    "kernelspec": {
      "name": "python3",
      "display_name": "Python 3"
    },
    "language_info": {
      "name": "python"
    }
  },
  "cells": [
    {
      "cell_type": "markdown",
      "metadata": {
        "id": "view-in-github",
        "colab_type": "text"
      },
      "source": [
        "<a href=\"https://colab.research.google.com/github/gangins/-/blob/main/Untitled6.ipynb\" target=\"_parent\"><img src=\"https://colab.research.google.com/assets/colab-badge.svg\" alt=\"Open In Colab\"/></a>"
      ]
    },
    {
      "cell_type": "code",
      "execution_count": 5,
      "metadata": {
        "colab": {
          "base_uri": "https://localhost:8080/"
        },
        "id": "RTGZPYxgMOS_",
        "outputId": "a916492f-556e-46c4-d455-b1e13d3ffc1d"
      },
      "outputs": [
        {
          "output_type": "stream",
          "name": "stdout",
          "text": [
            "1.12.1+cu113\n"
          ]
        }
      ],
      "source": [
        "import torch\n",
        "\n",
        "print(torch.__version__)"
      ]
    },
    {
      "cell_type": "code",
      "source": [
        "#x의 연산과적을 추적하기 위해 requires_grad=True로 설정\n",
        "x = torch.ones(2, 2, requires_grad=True)\n",
        "print(x)\n",
        "\n",
        "#직접 생성한 tensor이기 때문에 grad_fn이 none 인것을 확인 할 수 있음"
      ],
      "metadata": {
        "colab": {
          "base_uri": "https://localhost:8080/"
        },
        "id": "c3mVUI7MRDOg",
        "outputId": "c5e84862-239d-4cfb-c643-1ff63718f20d"
      },
      "execution_count": null,
      "outputs": [
        {
          "output_type": "stream",
          "name": "stdout",
          "text": [
            "tensor([[1., 1.],\n",
            "        [1., 1.]], requires_grad=True)\n"
          ]
        }
      ]
    },
    {
      "cell_type": "code",
      "source": [
        "#y는 연산의 결과로 생성된 것이기 때문에 grad_fn을 갖고 있는 것을 확인 가능\n",
        "\n",
        "y = x+2\n",
        "print(y)"
      ],
      "metadata": {
        "colab": {
          "base_uri": "https://localhost:8080/"
        },
        "id": "QpChEvzfSQn3",
        "outputId": "1c19641f-eb07-4984-aae9-2febcf31dbea"
      },
      "execution_count": null,
      "outputs": [
        {
          "output_type": "stream",
          "name": "stdout",
          "text": [
            "tensor([[3., 3.],\n",
            "        [3., 3.]], grad_fn=<AddBackward0>)\n"
          ]
        }
      ]
    },
    {
      "cell_type": "code",
      "source": [
        "# 연산의 결과로 생성된 것이기 때문에  grad_fn을 갖고 있는 것을 확인 가능"
      ],
      "metadata": {
        "id": "YfcJS7QBSgH1"
      },
      "execution_count": null,
      "outputs": []
    },
    {
      "cell_type": "code",
      "source": [
        "print(y.grad_fn)"
      ],
      "metadata": {
        "colab": {
          "base_uri": "https://localhost:8080/"
        },
        "id": "k6A90XfsSgKe",
        "outputId": "b4e3296c-8f00-4c9e-d2c5-1c58399230a7"
      },
      "execution_count": null,
      "outputs": [
        {
          "output_type": "stream",
          "name": "stdout",
          "text": [
            "<AddBackward0 object at 0x7ffac865f810>\n"
          ]
        }
      ]
    },
    {
      "cell_type": "code",
      "source": [
        "z = y*y*3\n",
        "out = z.mean()\n",
        "\n",
        "#각각 사용한 func에 맞게 grad_fn이 생성된 것을 확인할 수 있음\n",
        "print(z)\n",
        "print(out)"
      ],
      "metadata": {
        "colab": {
          "base_uri": "https://localhost:8080/"
        },
        "id": "gEmn6fo_SgNI",
        "outputId": "c790a81e-c91b-4346-ed1b-f7dd24fb81a3"
      },
      "execution_count": null,
      "outputs": [
        {
          "output_type": "stream",
          "name": "stdout",
          "text": [
            "tensor([[27., 27.],\n",
            "        [27., 27.]], grad_fn=<MulBackward0>)\n",
            "tensor(27., grad_fn=<MeanBackward0>)\n"
          ]
        }
      ]
    },
    {
      "cell_type": "code",
      "source": [
        "requires_grad_()를 사용하면 기존 Tensor의 requires_grad 값을 바꿀수 있음\n",
        "입력값이 지정되지 않으면 기본값은 FAlse\n"
      ],
      "metadata": {
        "id": "kpoUeu2uSgP1"
      },
      "execution_count": null,
      "outputs": []
    },
    {
      "cell_type": "markdown",
      "source": [
        ""
      ],
      "metadata": {
        "id": "JiBZmocZTvut"
      }
    },
    {
      "cell_type": "code",
      "source": [
        "a = torch.randn(2,2)\n",
        "print(a)"
      ],
      "metadata": {
        "colab": {
          "base_uri": "https://localhost:8080/"
        },
        "id": "PVFGbXbhSgSs",
        "outputId": "bf0d1359-f30f-49bc-b86a-99c7974440fb"
      },
      "execution_count": null,
      "outputs": [
        {
          "output_type": "stream",
          "name": "stdout",
          "text": [
            "tensor([[ 0.8092,  0.4518],\n",
            "        [-0.7354, -0.9325]])\n"
          ]
        }
      ]
    },
    {
      "cell_type": "code",
      "source": [
        "a = ((a*3)/ (a-1))\n",
        "print(a)\n",
        "print(a.requires_grad)"
      ],
      "metadata": {
        "colab": {
          "base_uri": "https://localhost:8080/"
        },
        "id": "nCRWqMGsT9Bs",
        "outputId": "1a88f51a-3bc8-4c4c-9821-1da0e43e2b96"
      },
      "execution_count": null,
      "outputs": [
        {
          "output_type": "stream",
          "name": "stdout",
          "text": [
            "tensor([[-12.7212,  -2.4725],\n",
            "        [  1.2713,   1.4476]])\n",
            "False\n"
          ]
        }
      ]
    },
    {
      "cell_type": "code",
      "source": [
        "a.requires_grad_(True)"
      ],
      "metadata": {
        "colab": {
          "base_uri": "https://localhost:8080/"
        },
        "id": "sdtp84UqT9Ee",
        "outputId": "90c8d9c4-3e30-4040-97e7-c2df7dbe9274"
      },
      "execution_count": null,
      "outputs": [
        {
          "output_type": "execute_result",
          "data": {
            "text/plain": [
              "tensor([[-12.7212,  -2.4725],\n",
              "        [  1.2713,   1.4476]], requires_grad=True)"
            ]
          },
          "metadata": {},
          "execution_count": 13
        }
      ]
    },
    {
      "cell_type": "code",
      "source": [
        "print(a.requires_grad)"
      ],
      "metadata": {
        "colab": {
          "base_uri": "https://localhost:8080/"
        },
        "id": "lnW_0JQcUMLJ",
        "outputId": "57fd5dd5-8186-41ce-8915-36873e977500"
      },
      "execution_count": null,
      "outputs": [
        {
          "output_type": "stream",
          "name": "stdout",
          "text": [
            "True\n"
          ]
        }
      ]
    },
    {
      "cell_type": "code",
      "source": [
        "b = (a*a).sum()\n",
        "print(b)\n",
        "print(b.requires_grad)"
      ],
      "metadata": {
        "colab": {
          "base_uri": "https://localhost:8080/"
        },
        "id": "hyThnXTDUODy",
        "outputId": "46fae6c8-0f10-4e0f-a232-e1ed368995e6"
      },
      "execution_count": null,
      "outputs": [
        {
          "output_type": "stream",
          "name": "stdout",
          "text": [
            "tensor(171.6529, grad_fn=<SumBackward0>)\n",
            "True\n"
          ]
        }
      ]
    },
    {
      "cell_type": "code",
      "source": [
        "변화도(Gradient)"
      ],
      "metadata": {
        "id": "Nv9xu87oUa54"
      },
      "execution_count": null,
      "outputs": []
    },
    {
      "cell_type": "code",
      "source": [
        " print(out)\n",
        "\n",
        " # 이전에 만든 out을 사용해서 역전파 진행\n",
        "\n",
        "\n",
        "y.retain_grad()   # 중간 값에 대한 미분 값을 보고싶다면 해당 갑셍 대한 retain_grad()을 호출해야함\n",
        "z.retain_grad()\n",
        "out.backward() # 여러번 미분을 진행하기 위해서는 retain_graph=True로 설정해 줘야함 (그렇지 않으면 아래처럼 에러 발생)\n",
        "\n",
        "#out.backward(torch.tensor(1.))을 진행하는 것과 동일\n",
        "\n",
        "print(x.grad)\n",
        "\n",
        "print(y.grad)\n",
        "\n",
        "print(z.grad)\n",
        "\n",
        "print(z.is_leaf)\n",
        "\n",
        "out.backward()\n",
        "print(x.grad)\n",
        "\n",
        "print(y.grad)"
      ],
      "metadata": {
        "colab": {
          "base_uri": "https://localhost:8080/",
          "height": 474
        },
        "id": "uEEGH1fdUfQI",
        "outputId": "3c119363-73e3-44fd-a183-21fc7d0d0e37"
      },
      "execution_count": null,
      "outputs": [
        {
          "output_type": "stream",
          "name": "stdout",
          "text": [
            "tensor(27., grad_fn=<MeanBackward0>)\n"
          ]
        },
        {
          "output_type": "error",
          "ename": "RuntimeError",
          "evalue": "ignored",
          "traceback": [
            "\u001b[0;31m---------------------------------------------------------------------------\u001b[0m",
            "\u001b[0;31mRuntimeError\u001b[0m                              Traceback (most recent call last)",
            "\u001b[0;32m<ipython-input-18-2b37d0c7b19f>\u001b[0m in \u001b[0;36m<module>\u001b[0;34m\u001b[0m\n\u001b[1;32m      6\u001b[0m \u001b[0my\u001b[0m\u001b[0;34m.\u001b[0m\u001b[0mretain_grad\u001b[0m\u001b[0;34m(\u001b[0m\u001b[0;34m)\u001b[0m   \u001b[0;31m# 중간 값에 대한 미분 값을 보고싶다면 해당 갑셍 대한 retain_grad()을 호출해야함\u001b[0m\u001b[0;34m\u001b[0m\u001b[0;34m\u001b[0m\u001b[0m\n\u001b[1;32m      7\u001b[0m \u001b[0mz\u001b[0m\u001b[0;34m.\u001b[0m\u001b[0mretain_grad\u001b[0m\u001b[0;34m(\u001b[0m\u001b[0;34m)\u001b[0m\u001b[0;34m\u001b[0m\u001b[0;34m\u001b[0m\u001b[0m\n\u001b[0;32m----> 8\u001b[0;31m \u001b[0mout\u001b[0m\u001b[0;34m.\u001b[0m\u001b[0mbackward\u001b[0m\u001b[0;34m(\u001b[0m\u001b[0;34m)\u001b[0m \u001b[0;31m# 여러번 미분을 진행하기 위해서는 retain_graph=True로 설정해 줘야함 (그렇지 않으면 아래처럼 에러 발생)\u001b[0m\u001b[0;34m\u001b[0m\u001b[0;34m\u001b[0m\u001b[0m\n\u001b[0m\u001b[1;32m      9\u001b[0m \u001b[0;34m\u001b[0m\u001b[0m\n\u001b[1;32m     10\u001b[0m \u001b[0;31m#out.backward(torch.tensor(1.))을 진행하는 것과 동일\u001b[0m\u001b[0;34m\u001b[0m\u001b[0;34m\u001b[0m\u001b[0;34m\u001b[0m\u001b[0m\n",
            "\u001b[0;32m/usr/local/lib/python3.7/dist-packages/torch/_tensor.py\u001b[0m in \u001b[0;36mbackward\u001b[0;34m(self, gradient, retain_graph, create_graph, inputs)\u001b[0m\n\u001b[1;32m    394\u001b[0m                 \u001b[0mcreate_graph\u001b[0m\u001b[0;34m=\u001b[0m\u001b[0mcreate_graph\u001b[0m\u001b[0;34m,\u001b[0m\u001b[0;34m\u001b[0m\u001b[0;34m\u001b[0m\u001b[0m\n\u001b[1;32m    395\u001b[0m                 inputs=inputs)\n\u001b[0;32m--> 396\u001b[0;31m         \u001b[0mtorch\u001b[0m\u001b[0;34m.\u001b[0m\u001b[0mautograd\u001b[0m\u001b[0;34m.\u001b[0m\u001b[0mbackward\u001b[0m\u001b[0;34m(\u001b[0m\u001b[0mself\u001b[0m\u001b[0;34m,\u001b[0m \u001b[0mgradient\u001b[0m\u001b[0;34m,\u001b[0m \u001b[0mretain_graph\u001b[0m\u001b[0;34m,\u001b[0m \u001b[0mcreate_graph\u001b[0m\u001b[0;34m,\u001b[0m \u001b[0minputs\u001b[0m\u001b[0;34m=\u001b[0m\u001b[0minputs\u001b[0m\u001b[0;34m)\u001b[0m\u001b[0;34m\u001b[0m\u001b[0;34m\u001b[0m\u001b[0m\n\u001b[0m\u001b[1;32m    397\u001b[0m \u001b[0;34m\u001b[0m\u001b[0m\n\u001b[1;32m    398\u001b[0m     \u001b[0;32mdef\u001b[0m \u001b[0mregister_hook\u001b[0m\u001b[0;34m(\u001b[0m\u001b[0mself\u001b[0m\u001b[0;34m,\u001b[0m \u001b[0mhook\u001b[0m\u001b[0;34m)\u001b[0m\u001b[0;34m:\u001b[0m\u001b[0;34m\u001b[0m\u001b[0;34m\u001b[0m\u001b[0m\n",
            "\u001b[0;32m/usr/local/lib/python3.7/dist-packages/torch/autograd/__init__.py\u001b[0m in \u001b[0;36mbackward\u001b[0;34m(tensors, grad_tensors, retain_graph, create_graph, grad_variables, inputs)\u001b[0m\n\u001b[1;32m    173\u001b[0m     Variable._execution_engine.run_backward(  # Calls into the C++ engine to run the backward pass\n\u001b[1;32m    174\u001b[0m         \u001b[0mtensors\u001b[0m\u001b[0;34m,\u001b[0m \u001b[0mgrad_tensors_\u001b[0m\u001b[0;34m,\u001b[0m \u001b[0mretain_graph\u001b[0m\u001b[0;34m,\u001b[0m \u001b[0mcreate_graph\u001b[0m\u001b[0;34m,\u001b[0m \u001b[0minputs\u001b[0m\u001b[0;34m,\u001b[0m\u001b[0;34m\u001b[0m\u001b[0;34m\u001b[0m\u001b[0m\n\u001b[0;32m--> 175\u001b[0;31m         allow_unreachable=True, accumulate_grad=True)  # Calls into the C++ engine to run the backward pass\n\u001b[0m\u001b[1;32m    176\u001b[0m \u001b[0;34m\u001b[0m\u001b[0m\n\u001b[1;32m    177\u001b[0m def grad(\n",
            "\u001b[0;31mRuntimeError\u001b[0m: Trying to backward through the graph a second time (or directly access saved tensors after they have already been freed). Saved intermediate values of the graph are freed when you call .backward() or autograd.grad(). Specify retain_graph=True if you need to backward through the graph a second time or if you need to access saved tensors after calling backward."
          ]
        }
      ]
    },
    {
      "cell_type": "code",
      "source": [
        "print(x.grad)\n",
        "print(y.grad)\n",
        "print(z.grad)"
      ],
      "metadata": {
        "colab": {
          "base_uri": "https://localhost:8080/"
        },
        "id": "h9RtUGseUfSq",
        "outputId": "d1347e0e-5845-4bfd-8389-bfaf6f70731f"
      },
      "execution_count": null,
      "outputs": [
        {
          "output_type": "stream",
          "name": "stdout",
          "text": [
            "tensor([[4.5000, 4.5000],\n",
            "        [4.5000, 4.5000]])\n",
            "tensor([[4.5000, 4.5000],\n",
            "        [4.5000, 4.5000]])\n",
            "tensor([[0.5000, 0.5000],\n",
            "        [0.5000, 0.5000]])\n"
          ]
        }
      ]
    },
    {
      "cell_type": "code",
      "source": [
        "x = torch.randn(3, requires_grad=True)\n",
        "print(x)\n",
        "y = x * 2\n",
        "print(y)\n",
        "\n",
        "#.data.norm() : L2 norm(Frobenius norm)\n",
        "#=sqrt(sum(y의 모든 요소^2))\n",
        "while y.data.norm() < 1000:\n",
        "  y = y * 2\n",
        "\n",
        "print(y)"
      ],
      "metadata": {
        "colab": {
          "base_uri": "https://localhost:8080/"
        },
        "id": "ChUTo6GMUfVJ",
        "outputId": "a12cfdbe-e95c-435c-b7f9-998558c67c6d"
      },
      "execution_count": null,
      "outputs": [
        {
          "output_type": "stream",
          "name": "stdout",
          "text": [
            "tensor([-0.7339, -0.5410,  1.7330], requires_grad=True)\n",
            "tensor([-1.4678, -1.0820,  3.4661], grad_fn=<MulBackward0>)\n",
            "tensor([-375.7690, -276.9923,  887.3200], grad_fn=<MulBackward0>)\n"
          ]
        }
      ]
    },
    {
      "cell_type": "code",
      "source": [
        "#with torch.no_grad()로 코드를 감싸서 autograd가 .requires_grad=True인 Tensor의 연산 기록을 추적하는 걸 멈추게 할 수 있음\n",
        "print(x.requires_grad)\n",
        "with torch.no_grad():\n",
        "\tprint(x.requires_grad)"
      ],
      "metadata": {
        "colab": {
          "base_uri": "https://localhost:8080/"
        },
        "id": "Osqr-0meUfYH",
        "outputId": "cfbe0b89-2670-4bf9-c16e-2f4acae4a11d"
      },
      "execution_count": null,
      "outputs": [
        {
          "output_type": "stream",
          "name": "stdout",
          "text": [
            "True\n",
            "True\n"
          ]
        }
      ]
    },
    {
      "cell_type": "code",
      "source": [
        "#또는 .detach()를 호출하여 내용물은 같지만 requires_grad가 다른 새로운 Tensor를 생성할 수도 있음\n",
        "print(x.requires_grad)\n",
        "y=x.detach()\n",
        "print(y.requires_grad)\n",
        "print(x.eq(y).all())"
      ],
      "metadata": {
        "colab": {
          "base_uri": "https://localhost:8080/"
        },
        "id": "gBOhlHG4Ufa-",
        "outputId": "c44f8630-1c01-403a-f973-dea6600dfefc"
      },
      "execution_count": null,
      "outputs": [
        {
          "output_type": "stream",
          "name": "stdout",
          "text": [
            "True\n",
            "False\n",
            "tensor(True)\n"
          ]
        }
      ]
    },
    {
      "cell_type": "code",
      "source": [
        "#라이브러리 import\n",
        "import pandas as pd\n",
        "\n",
        "from sklearn.datasets import load_iris\n",
        "\n",
        "import torch\n",
        "import torch.nn as nn\n",
        "from torch.utils.data import DataLoader, TensorDataset"
      ],
      "metadata": {
        "id": "CNE3SilDUfdk"
      },
      "execution_count": 2,
      "outputs": []
    },
    {
      "cell_type": "code",
      "source": [
        "class Net(nn.Module):\n",
        "\n",
        "    def __init__(self):\n",
        "        super(Net, self).__init__()\n",
        "\n",
        "        self.layer0 = nn.Linear(4, 128)\n",
        "        self.layer1 = nn.Linear(128, 64)\n",
        "        self.layer2 = nn.Linear(64, 32)\n",
        "        self.layer3 = nn.Linear(32, 16)\n",
        "        self.layer4 = nn.Linear(16, 3)\n",
        "\n",
        "        self.bn0 = nn.BatchNorm1d(128)\n",
        "        self.bn1 = nn.BatchNorm1d(64)\n",
        "        self.bn2 = nn.BatchNorm1d(32)\n",
        "\n",
        "        self.act = nn.ReLU()\n",
        "\n",
        "    def forward(self, x):\n",
        "      x = self.act(self.bn0(self.layer0(x)))\n",
        "      x = self.act(self.bn1(self.layer1(x)))\n",
        "      x = self.act(self.bn2(self.layer2(x)))\n",
        "      x = self.act(self.layer3(x))\n",
        "      x = self.layer4(x)\n",
        "\n",
        "      return x"
      ],
      "metadata": {
        "id": "rcN4l2aIUfgs"
      },
      "execution_count": 6,
      "outputs": []
    },
    {
      "cell_type": "code",
      "source": [
        "손실함수(Loss function)\n",
        "(output, target)을 한 쌍으로 입력받아 출력이 정답으로부터 얼마나 떨어져있는지 계산\n",
        "forward()만 정의하면 backward()는 autograd에 의해 자동 정의\n",
        "모델의 학습 가능한 매개변수는 net.parameters()에 의해 변환"
      ],
      "metadata": {
        "id": "ju931srTUfjj"
      },
      "execution_count": null,
      "outputs": []
    },
    {
      "cell_type": "code",
      "source": [
        ""
      ],
      "metadata": {
        "id": "w1U5aWnXg6-h"
      },
      "execution_count": null,
      "outputs": []
    },
    {
      "cell_type": "code",
      "source": [
        "criterion = nn.CrossEntropyLoss()\n",
        "\n",
        "ex_X, ex_y = torch.randn([4, 4]), torch.tensor([1, 0, 2, 0])\n",
        "print('ex_X : ', ex_X) \n",
        "print('ex_y : ', ex_y)\n",
        "\n",
        "#모델 정의\n",
        "net = Net()\n",
        "#입력값을 모델로 훈련시킨 후 나온 출력값\n",
        "output = net(ex_X)\n",
        "print(output)\n",
        "#손실계산\n",
        "loss = criterion(output, ex_y)\n",
        "#계산한 손실 출력\n",
        "print('loss: ', loss.item())\n",
        "  \n",
        "net.zero_grad()\n",
        "\n",
        "print('layer0.bias.grad before backward')\n",
        "print(net.layer4.bias.grad)\n",
        "print(net.layer4.bias.is_leaf)\n",
        "\n",
        "loss.backward()\n",
        "\n",
        "print('layer0.bias.grad after backward')\n",
        "print(net.layer4.bias.grad)\n",
        "\n",
        "'''\n",
        "ex_X :  tensor([[-0.3045,  1.5439,  0.6195, -0.4642],\n",
        "        [ 2.3502,  0.7011,  0.1095,  1.6037],\n",
        "        [ 0.8238,  0.8151, -0.0307,  0.5803],\n",
        "        [-0.6257,  0.8074, -0.0829,  0.3538]])\n",
        "ex_y :  tensor([1, 0, 2, 0])\n",
        "tensor([[ 0.4725, -0.5172,  0.0757],\n",
        "        [ 0.2162, -0.0060,  0.1769],\n",
        "        [ 0.1057, -0.1521,  0.0456],\n",
        "        [ 0.2338, -0.3210,  0.1688]], grad_fn=<AddmmBackward>)\n",
        "loss:  1.1750612258911133\n",
        "layer0.bias.grad before backward\n",
        "None\n",
        "True\n",
        "layer0.bias.grad after backward\n",
        "tensor([-0.0955, -0.0037,  0.0993])\n",
        "'''"
      ],
      "metadata": {
        "colab": {
          "base_uri": "https://localhost:8080/",
          "height": 386
        },
        "id": "c4KDwiBTY80O",
        "outputId": "fb89b7c1-5a95-49a1-e420-96439a7aa084"
      },
      "execution_count": 7,
      "outputs": [
        {
          "output_type": "stream",
          "name": "stdout",
          "text": [
            "ex_X :  tensor([[-0.3040,  0.7635, -0.3567,  1.6962],\n",
            "        [ 1.1396, -0.2660,  2.3750, -1.1462],\n",
            "        [ 0.6260, -2.5692, -0.7243, -0.6537],\n",
            "        [ 0.2318,  0.5207, -0.6757,  0.4483]])\n",
            "ex_y :  tensor([1, 0, 2, 0])\n",
            "tensor([[-0.1098, -0.3064,  0.1355],\n",
            "        [-0.1489, -0.3625,  0.0837],\n",
            "        [-0.1118, -0.3768,  0.0949],\n",
            "        [-0.2146, -0.2939,  0.0317]], grad_fn=<AddmmBackward0>)\n",
            "loss:  1.1261029243469238\n",
            "layer0.bias.grad before backward\n",
            "None\n",
            "True\n",
            "layer0.bias.grad after backward\n",
            "tensor([-0.1764,  0.0181,  0.1583])\n"
          ]
        },
        {
          "output_type": "execute_result",
          "data": {
            "text/plain": [
              "'\\nex_X :  tensor([[-0.3045,  1.5439,  0.6195, -0.4642],\\n        [ 2.3502,  0.7011,  0.1095,  1.6037],\\n        [ 0.8238,  0.8151, -0.0307,  0.5803],\\n        [-0.6257,  0.8074, -0.0829,  0.3538]])\\nex_y :  tensor([1, 0, 2, 0])\\ntensor([[ 0.4725, -0.5172,  0.0757],\\n        [ 0.2162, -0.0060,  0.1769],\\n        [ 0.1057, -0.1521,  0.0456],\\n        [ 0.2338, -0.3210,  0.1688]], grad_fn=<AddmmBackward>)\\nloss:  1.1750612258911133\\nlayer0.bias.grad before backward\\nNone\\nTrue\\nlayer0.bias.grad after backward\\ntensor([-0.0955, -0.0037,  0.0993])\\n'"
            ],
            "application/vnd.google.colaboratory.intrinsic+json": {
              "type": "string"
            }
          },
          "metadata": {},
          "execution_count": 7
        }
      ]
    },
    {
      "cell_type": "code",
      "source": [
        "#net.parameters()에는 각각의 층들마다의 weight, bias값들이 들어있음\n",
        "#Linear Layer : 4, 128, 64, 32, 16, 3 -> 6개*2(wieght, bias) + BatchNorm1d Layer : 128, 64, 32->3개*2(weight, bias)\n",
        "params = list(net.parameters())\n",
        "for i in range(len(params)):\n",
        "  print(params[i].size())\n",
        "#print(params[0].size())   # layer0의 weight"
      ],
      "metadata": {
        "id": "FZfneqpLg-Il",
        "outputId": "aa801b18-21ac-4761-b65d-4851e244551a",
        "colab": {
          "base_uri": "https://localhost:8080/"
        }
      },
      "execution_count": 8,
      "outputs": [
        {
          "output_type": "stream",
          "name": "stdout",
          "text": [
            "torch.Size([128, 4])\n",
            "torch.Size([128])\n",
            "torch.Size([64, 128])\n",
            "torch.Size([64])\n",
            "torch.Size([32, 64])\n",
            "torch.Size([32])\n",
            "torch.Size([16, 32])\n",
            "torch.Size([16])\n",
            "torch.Size([3, 16])\n",
            "torch.Size([3])\n",
            "torch.Size([128])\n",
            "torch.Size([128])\n",
            "torch.Size([64])\n",
            "torch.Size([64])\n",
            "torch.Size([32])\n",
            "torch.Size([32])\n"
          ]
        }
      ]
    },
    {
      "cell_type": "code",
      "source": [
        "가중치 갱신\n",
        "가장 단순한 갱신 규칙 : 확률적 경사 하강법(SGD, Stochastic Gradient Descent)\n",
        "\n",
        "새로운 가중치 = 가중치 - 학습률 * 변화도\n",
        "\n"
      ],
      "metadata": {
        "id": "GO_Q2rPBiF4a"
      },
      "execution_count": null,
      "outputs": []
    },
    {
      "cell_type": "code",
      "source": [
        "# torch.optim 패키지에 다양한 갱신 규칙이 규현되어 있음\n",
        "import torch.optim as optim\n",
        "\n",
        "optimizer = optim.SGD(net.parameters(), lr=0.001)\n",
        "\n",
        "optimizer.zero_grad()\n",
        "output = net(ex_X)\n",
        "loss = criterion(output, ex_y)\n",
        "loss.backward()\n",
        "optimizer.step()  # 업데이트 진행"
      ],
      "metadata": {
        "id": "0O5pJ5_siOV6"
      },
      "execution_count": 9,
      "outputs": []
    },
    {
      "cell_type": "code",
      "source": [
        "MLP 모델\n",
        "\n",
        "\n"
      ],
      "metadata": {
        "id": "H0mLetKBiiN1",
        "outputId": "2c398d77-e6b5-4eb3-c485-551e91bc9599",
        "colab": {
          "base_uri": "https://localhost:8080/",
          "height": 137
        }
      },
      "execution_count": 10,
      "outputs": [
        {
          "output_type": "error",
          "ename": "SyntaxError",
          "evalue": "ignored",
          "traceback": [
            "\u001b[0;36m  File \u001b[0;32m\"<ipython-input-10-ddd8bc1fc724>\"\u001b[0;36m, line \u001b[0;32m1\u001b[0m\n\u001b[0;31m    MLP 모델\u001b[0m\n\u001b[0m         ^\u001b[0m\n\u001b[0;31mSyntaxError\u001b[0m\u001b[0;31m:\u001b[0m invalid syntax\n"
          ]
        }
      ]
    },
    {
      "cell_type": "code",
      "source": [
        "#data load\n",
        "dataset = load_iris()\n",
        "\n",
        "data = dataset.data\n",
        "label = dataset.target\n",
        "\n",
        "print(dataset.DESCR)"
      ],
      "metadata": {
        "id": "QqMC0TRUiqVd",
        "outputId": "ca5582f3-5fda-4085-cf48-dcff8b9d16cb",
        "colab": {
          "base_uri": "https://localhost:8080/"
        }
      },
      "execution_count": 11,
      "outputs": [
        {
          "output_type": "stream",
          "name": "stdout",
          "text": [
            ".. _iris_dataset:\n",
            "\n",
            "Iris plants dataset\n",
            "--------------------\n",
            "\n",
            "**Data Set Characteristics:**\n",
            "\n",
            "    :Number of Instances: 150 (50 in each of three classes)\n",
            "    :Number of Attributes: 4 numeric, predictive attributes and the class\n",
            "    :Attribute Information:\n",
            "        - sepal length in cm\n",
            "        - sepal width in cm\n",
            "        - petal length in cm\n",
            "        - petal width in cm\n",
            "        - class:\n",
            "                - Iris-Setosa\n",
            "                - Iris-Versicolour\n",
            "                - Iris-Virginica\n",
            "                \n",
            "    :Summary Statistics:\n",
            "\n",
            "    ============== ==== ==== ======= ===== ====================\n",
            "                    Min  Max   Mean    SD   Class Correlation\n",
            "    ============== ==== ==== ======= ===== ====================\n",
            "    sepal length:   4.3  7.9   5.84   0.83    0.7826\n",
            "    sepal width:    2.0  4.4   3.05   0.43   -0.4194\n",
            "    petal length:   1.0  6.9   3.76   1.76    0.9490  (high!)\n",
            "    petal width:    0.1  2.5   1.20   0.76    0.9565  (high!)\n",
            "    ============== ==== ==== ======= ===== ====================\n",
            "\n",
            "    :Missing Attribute Values: None\n",
            "    :Class Distribution: 33.3% for each of 3 classes.\n",
            "    :Creator: R.A. Fisher\n",
            "    :Donor: Michael Marshall (MARSHALL%PLU@io.arc.nasa.gov)\n",
            "    :Date: July, 1988\n",
            "\n",
            "The famous Iris database, first used by Sir R.A. Fisher. The dataset is taken\n",
            "from Fisher's paper. Note that it's the same as in R, but not as in the UCI\n",
            "Machine Learning Repository, which has two wrong data points.\n",
            "\n",
            "This is perhaps the best known database to be found in the\n",
            "pattern recognition literature.  Fisher's paper is a classic in the field and\n",
            "is referenced frequently to this day.  (See Duda & Hart, for example.)  The\n",
            "data set contains 3 classes of 50 instances each, where each class refers to a\n",
            "type of iris plant.  One class is linearly separable from the other 2; the\n",
            "latter are NOT linearly separable from each other.\n",
            "\n",
            ".. topic:: References\n",
            "\n",
            "   - Fisher, R.A. \"The use of multiple measurements in taxonomic problems\"\n",
            "     Annual Eugenics, 7, Part II, 179-188 (1936); also in \"Contributions to\n",
            "     Mathematical Statistics\" (John Wiley, NY, 1950).\n",
            "   - Duda, R.O., & Hart, P.E. (1973) Pattern Classification and Scene Analysis.\n",
            "     (Q327.D83) John Wiley & Sons.  ISBN 0-471-22361-1.  See page 218.\n",
            "   - Dasarathy, B.V. (1980) \"Nosing Around the Neighborhood: A New System\n",
            "     Structure and Classification Rule for Recognition in Partially Exposed\n",
            "     Environments\".  IEEE Transactions on Pattern Analysis and Machine\n",
            "     Intelligence, Vol. PAMI-2, No. 1, 67-71.\n",
            "   - Gates, G.W. (1972) \"The Reduced Nearest Neighbor Rule\".  IEEE Transactions\n",
            "     on Information Theory, May 1972, 431-433.\n",
            "   - See also: 1988 MLC Proceedings, 54-64.  Cheeseman et al\"s AUTOCLASS II\n",
            "     conceptual clustering system finds 3 classes in the data.\n",
            "   - Many, many more ...\n"
          ]
        }
      ]
    },
    {
      "cell_type": "code",
      "source": [
        "print('shape of data: ',data.shape)\n",
        "print('shape of label: ',label.shape)"
      ],
      "metadata": {
        "id": "b_MwDo8Mi1Df",
        "outputId": "9e49ea1f-8faf-4d95-ade0-c705c375b720",
        "colab": {
          "base_uri": "https://localhost:8080/"
        }
      },
      "execution_count": 12,
      "outputs": [
        {
          "output_type": "stream",
          "name": "stdout",
          "text": [
            "shape of data:  (150, 4)\n",
            "shape of label:  (150,)\n"
          ]
        }
      ]
    },
    {
      "cell_type": "code",
      "source": [
        "# 훈련과 테스트 데이터로 나누기\n",
        "from sklearn.model_selection import train_test_split\n",
        "\n",
        "X_train, X_test, y_train, y_test = train_test_split(data, label, test_size=0.25)\n",
        "print(len(X_train))\n",
        "print(len(X_test))"
      ],
      "metadata": {
        "id": "L08OvdEvi1Z_",
        "outputId": "60d8cdb0-f1c9-4f9d-b47a-928094c8bf0f",
        "colab": {
          "base_uri": "https://localhost:8080/"
        }
      },
      "execution_count": 13,
      "outputs": [
        {
          "output_type": "stream",
          "name": "stdout",
          "text": [
            "112\n",
            "38\n"
          ]
        }
      ]
    },
    {
      "cell_type": "code",
      "source": [
        "# DataLoader 생성\n",
        "# numpy->Tensor\n",
        "X_train = torch.from_numpy(X_train).float()\n",
        "y_train = torch.from_numpy(y_train).long()\n",
        "X_test = torch.from_numpy(X_test).float()\n",
        "y_test = torch.from_numpy(y_test).long()\n",
        "\n",
        "train_set = TensorDataset(X_train, y_train)\n",
        "train_loader = DataLoader(train_set, batch_size=4, shuffle=True)"
      ],
      "metadata": {
        "id": "5D7h9fxujTnd"
      },
      "execution_count": 14,
      "outputs": []
    },
    {
      "cell_type": "code",
      "source": [
        "class Net(nn.Module):\n",
        "\n",
        "    def __init__(self):\n",
        "        super(Net, self).__init__()\n",
        "\n",
        "        self.layer0 = nn.Linear(4, 128)\n",
        "        self.layer1 = nn.Linear(128, 64)\n",
        "        self.layer2 = nn.Linear(64, 32)\n",
        "        self.layer3 = nn.Linear(32, 16)\n",
        "        self.layer4 = nn.Linear(16, 3)\n",
        "\n",
        "        self.bn0 = nn.BatchNorm1d(128)\n",
        "        self.bn1 = nn.BatchNorm1d(64)\n",
        "        self.bn2 = nn.BatchNorm1d(32)\n",
        "\n",
        "        self.act = nn.ReLU()\n",
        "\n",
        "    def forward(self, x):\n",
        "      x = self.act(self.bn0(self.layer0(x)))\n",
        "      x = self.act(self.bn1(self.layer1(x)))\n",
        "      x = self.act(self.bn2(self.layer2(x)))\n",
        "      x = self.act(self.layer3(x))\n",
        "      x = self.layer4(x)\n",
        "\n",
        "      return x\n",
        "      # return nn.Softmax(x)"
      ],
      "metadata": {
        "id": "ZwuJFbDljZTg"
      },
      "execution_count": 15,
      "outputs": []
    },
    {
      "cell_type": "code",
      "source": [
        "net = Net()\n",
        "print(net)"
      ],
      "metadata": {
        "id": "bdhe-eB8jdHa",
        "outputId": "7b25a1c8-8fd1-4660-c647-6bf756bf0ff5",
        "colab": {
          "base_uri": "https://localhost:8080/"
        }
      },
      "execution_count": 16,
      "outputs": [
        {
          "output_type": "stream",
          "name": "stdout",
          "text": [
            "Net(\n",
            "  (layer0): Linear(in_features=4, out_features=128, bias=True)\n",
            "  (layer1): Linear(in_features=128, out_features=64, bias=True)\n",
            "  (layer2): Linear(in_features=64, out_features=32, bias=True)\n",
            "  (layer3): Linear(in_features=32, out_features=16, bias=True)\n",
            "  (layer4): Linear(in_features=16, out_features=3, bias=True)\n",
            "  (bn0): BatchNorm1d(128, eps=1e-05, momentum=0.1, affine=True, track_running_stats=True)\n",
            "  (bn1): BatchNorm1d(64, eps=1e-05, momentum=0.1, affine=True, track_running_stats=True)\n",
            "  (bn2): BatchNorm1d(32, eps=1e-05, momentum=0.1, affine=True, track_running_stats=True)\n",
            "  (act): ReLU()\n",
            ")\n"
          ]
        }
      ]
    },
    {
      "cell_type": "markdown",
      "source": [
        "optimizer = torch.optim.SGD(net.parameters(), lr=0.001)\n",
        "criterion = nn.CrossEntropyLoss()\n",
        "epochs = 200\n",
        "\n",
        "```\n",
        "# 코드로 형식 지정됨\n",
        "```\n",
        "\n"
      ],
      "metadata": {
        "id": "l7eKUfQ7jGto"
      }
    },
    {
      "cell_type": "code",
      "source": [
        "optimizer = torch.optim.SGD(net.parameters(), lr=0.001)\n",
        "criterion = nn.CrossEntropyLoss()\n",
        "epochs = 200"
      ],
      "metadata": {
        "id": "CuGT9YDIjxkt"
      },
      "execution_count": 17,
      "outputs": []
    },
    {
      "cell_type": "code",
      "source": [
        "losses = list()\n",
        "accuracies = list()\n",
        "\n",
        "for epoch in range(epochs):\n",
        "  epoch_loss = 0  \n",
        "  epoch_accuracy = 0\n",
        "  for X, y in train_loader:\n",
        "  \n",
        "    optimizer.zero_grad()\n",
        "    \n",
        "    output = net(X)\n",
        "\n",
        "    loss = criterion(output, y)\n",
        "    loss.backward()\n",
        "    \n",
        "    optimizer.step()\n",
        "    _, predicted = torch.max(output, dim=1)\n",
        "    accuracy = (predicted == y).sum().item()\n",
        "    epoch_loss += loss.item()\n",
        "    epoch_accuracy += accuracy\n",
        "\n",
        "  epoch_loss /= len(train_loader)\n",
        "  epoch_accuracy /= len(X_train)\n",
        "  print(\"epoch :{}, \\tloss :{}, \\taccuracy :{}\".format(str(epoch+1).zfill(3),round(epoch_loss,4), round(epoch_accuracy,4)))\n",
        "  \n",
        "  losses.append(epoch_loss)\n",
        "  accuracies.append(epoch_accuracy)"
      ],
      "metadata": {
        "id": "W4CUlj5ujyNh",
        "outputId": "ddbec634-7a7b-45b7-8a7c-9f646edd7f09",
        "colab": {
          "base_uri": "https://localhost:8080/"
        }
      },
      "execution_count": 18,
      "outputs": [
        {
          "output_type": "stream",
          "name": "stdout",
          "text": [
            "epoch :001, \tloss :1.09, \taccuracy :0.375\n",
            "epoch :002, \tloss :1.0788, \taccuracy :0.3571\n",
            "epoch :003, \tloss :1.0679, \taccuracy :0.3839\n",
            "epoch :004, \tloss :1.0485, \taccuracy :0.4286\n",
            "epoch :005, \tloss :1.0396, \taccuracy :0.5\n",
            "epoch :006, \tloss :1.0162, \taccuracy :0.5179\n",
            "epoch :007, \tloss :1.0154, \taccuracy :0.5268\n",
            "epoch :008, \tloss :1.0151, \taccuracy :0.5268\n",
            "epoch :009, \tloss :1.0137, \taccuracy :0.5\n",
            "epoch :010, \tloss :0.9911, \taccuracy :0.5446\n",
            "epoch :011, \tloss :0.9816, \taccuracy :0.5179\n",
            "epoch :012, \tloss :0.9735, \taccuracy :0.5625\n",
            "epoch :013, \tloss :0.973, \taccuracy :0.5714\n",
            "epoch :014, \tloss :0.9812, \taccuracy :0.5089\n",
            "epoch :015, \tloss :0.9343, \taccuracy :0.6429\n",
            "epoch :016, \tloss :0.9401, \taccuracy :0.6339\n",
            "epoch :017, \tloss :0.9461, \taccuracy :0.5893\n",
            "epoch :018, \tloss :0.9445, \taccuracy :0.5536\n",
            "epoch :019, \tloss :0.9541, \taccuracy :0.6161\n",
            "epoch :020, \tloss :0.9373, \taccuracy :0.5804\n",
            "epoch :021, \tloss :0.9158, \taccuracy :0.5982\n",
            "epoch :022, \tloss :0.898, \taccuracy :0.6696\n",
            "epoch :023, \tloss :0.9023, \taccuracy :0.6071\n",
            "epoch :024, \tloss :0.8723, \taccuracy :0.7054\n",
            "epoch :025, \tloss :0.8852, \taccuracy :0.6786\n",
            "epoch :026, \tloss :0.8712, \taccuracy :0.7054\n",
            "epoch :027, \tloss :0.8836, \taccuracy :0.6875\n",
            "epoch :028, \tloss :0.8809, \taccuracy :0.6875\n",
            "epoch :029, \tloss :0.8794, \taccuracy :0.7054\n",
            "epoch :030, \tloss :0.8919, \taccuracy :0.6964\n",
            "epoch :031, \tloss :0.8656, \taccuracy :0.7232\n",
            "epoch :032, \tloss :0.8309, \taccuracy :0.7768\n",
            "epoch :033, \tloss :0.8004, \taccuracy :0.8125\n",
            "epoch :034, \tloss :0.8662, \taccuracy :0.6964\n",
            "epoch :035, \tloss :0.8622, \taccuracy :0.6161\n",
            "epoch :036, \tloss :0.8476, \taccuracy :0.6964\n",
            "epoch :037, \tloss :0.8541, \taccuracy :0.6696\n",
            "epoch :038, \tloss :0.8833, \taccuracy :0.6339\n",
            "epoch :039, \tloss :0.8489, \taccuracy :0.7143\n",
            "epoch :040, \tloss :0.7985, \taccuracy :0.7946\n",
            "epoch :041, \tloss :0.8359, \taccuracy :0.7054\n",
            "epoch :042, \tloss :0.8214, \taccuracy :0.75\n",
            "epoch :043, \tloss :0.793, \taccuracy :0.7232\n",
            "epoch :044, \tloss :0.8288, \taccuracy :0.7143\n",
            "epoch :045, \tloss :0.7939, \taccuracy :0.7232\n",
            "epoch :046, \tloss :0.8156, \taccuracy :0.7054\n",
            "epoch :047, \tloss :0.7663, \taccuracy :0.7946\n",
            "epoch :048, \tloss :0.7245, \taccuracy :0.8214\n",
            "epoch :049, \tloss :0.7695, \taccuracy :0.7411\n",
            "epoch :050, \tloss :0.8387, \taccuracy :0.6875\n",
            "epoch :051, \tloss :0.828, \taccuracy :0.6964\n",
            "epoch :052, \tloss :0.7579, \taccuracy :0.7411\n",
            "epoch :053, \tloss :0.7652, \taccuracy :0.6964\n",
            "epoch :054, \tloss :0.7779, \taccuracy :0.7054\n",
            "epoch :055, \tloss :0.755, \taccuracy :0.7589\n",
            "epoch :056, \tloss :0.6855, \taccuracy :0.8393\n",
            "epoch :057, \tloss :0.7471, \taccuracy :0.7768\n",
            "epoch :058, \tloss :0.7413, \taccuracy :0.7679\n",
            "epoch :059, \tloss :0.7263, \taccuracy :0.7768\n",
            "epoch :060, \tloss :0.7277, \taccuracy :0.7679\n",
            "epoch :061, \tloss :0.7072, \taccuracy :0.7589\n",
            "epoch :062, \tloss :0.6952, \taccuracy :0.7857\n",
            "epoch :063, \tloss :0.7161, \taccuracy :0.75\n",
            "epoch :064, \tloss :0.6867, \taccuracy :0.7857\n",
            "epoch :065, \tloss :0.7067, \taccuracy :0.7054\n",
            "epoch :066, \tloss :0.6388, \taccuracy :0.8393\n",
            "epoch :067, \tloss :0.6382, \taccuracy :0.8482\n",
            "epoch :068, \tloss :0.7327, \taccuracy :0.7411\n",
            "epoch :069, \tloss :0.6869, \taccuracy :0.7411\n",
            "epoch :070, \tloss :0.6272, \taccuracy :0.8125\n",
            "epoch :071, \tloss :0.6628, \taccuracy :0.7679\n",
            "epoch :072, \tloss :0.649, \taccuracy :0.8125\n",
            "epoch :073, \tloss :0.6559, \taccuracy :0.8214\n",
            "epoch :074, \tloss :0.6477, \taccuracy :0.7768\n",
            "epoch :075, \tloss :0.6543, \taccuracy :0.7857\n",
            "epoch :076, \tloss :0.6543, \taccuracy :0.7679\n",
            "epoch :077, \tloss :0.6573, \taccuracy :0.7857\n",
            "epoch :078, \tloss :0.6767, \taccuracy :0.75\n",
            "epoch :079, \tloss :0.6731, \taccuracy :0.7857\n",
            "epoch :080, \tloss :0.6729, \taccuracy :0.7232\n",
            "epoch :081, \tloss :0.6204, \taccuracy :0.7946\n",
            "epoch :082, \tloss :0.7094, \taccuracy :0.7054\n",
            "epoch :083, \tloss :0.5894, \taccuracy :0.8125\n",
            "epoch :084, \tloss :0.6382, \taccuracy :0.7679\n",
            "epoch :085, \tloss :0.5802, \taccuracy :0.7857\n",
            "epoch :086, \tloss :0.6145, \taccuracy :0.8036\n",
            "epoch :087, \tloss :0.6012, \taccuracy :0.7679\n",
            "epoch :088, \tloss :0.5748, \taccuracy :0.8214\n",
            "epoch :089, \tloss :0.647, \taccuracy :0.7589\n",
            "epoch :090, \tloss :0.6933, \taccuracy :0.7321\n",
            "epoch :091, \tloss :0.702, \taccuracy :0.7054\n",
            "epoch :092, \tloss :0.6131, \taccuracy :0.75\n",
            "epoch :093, \tloss :0.6126, \taccuracy :0.7679\n",
            "epoch :094, \tloss :0.6071, \taccuracy :0.7946\n",
            "epoch :095, \tloss :0.67, \taccuracy :0.7143\n",
            "epoch :096, \tloss :0.572, \taccuracy :0.7946\n",
            "epoch :097, \tloss :0.5877, \taccuracy :0.8125\n",
            "epoch :098, \tloss :0.5818, \taccuracy :0.7679\n",
            "epoch :099, \tloss :0.5509, \taccuracy :0.8214\n",
            "epoch :100, \tloss :0.5711, \taccuracy :0.7857\n",
            "epoch :101, \tloss :0.6716, \taccuracy :0.7054\n",
            "epoch :102, \tloss :0.5497, \taccuracy :0.8393\n",
            "epoch :103, \tloss :0.6777, \taccuracy :0.7232\n",
            "epoch :104, \tloss :0.5388, \taccuracy :0.8125\n",
            "epoch :105, \tloss :0.5519, \taccuracy :0.7768\n",
            "epoch :106, \tloss :0.6345, \taccuracy :0.7321\n",
            "epoch :107, \tloss :0.5097, \taccuracy :0.8036\n",
            "epoch :108, \tloss :0.6132, \taccuracy :0.7768\n",
            "epoch :109, \tloss :0.6247, \taccuracy :0.7411\n",
            "epoch :110, \tloss :0.5772, \taccuracy :0.7768\n",
            "epoch :111, \tloss :0.4808, \taccuracy :0.875\n",
            "epoch :112, \tloss :0.6261, \taccuracy :0.7321\n",
            "epoch :113, \tloss :0.5508, \taccuracy :0.7679\n",
            "epoch :114, \tloss :0.4754, \taccuracy :0.8929\n",
            "epoch :115, \tloss :0.5454, \taccuracy :0.7679\n",
            "epoch :116, \tloss :0.5449, \taccuracy :0.8304\n",
            "epoch :117, \tloss :0.5331, \taccuracy :0.8214\n",
            "epoch :118, \tloss :0.5111, \taccuracy :0.8036\n",
            "epoch :119, \tloss :0.5196, \taccuracy :0.8304\n",
            "epoch :120, \tloss :0.5439, \taccuracy :0.8571\n",
            "epoch :121, \tloss :0.4641, \taccuracy :0.8393\n",
            "epoch :122, \tloss :0.6012, \taccuracy :0.7857\n",
            "epoch :123, \tloss :0.6051, \taccuracy :0.75\n",
            "epoch :124, \tloss :0.5178, \taccuracy :0.7768\n",
            "epoch :125, \tloss :0.5581, \taccuracy :0.8036\n",
            "epoch :126, \tloss :0.5962, \taccuracy :0.7232\n",
            "epoch :127, \tloss :0.518, \taccuracy :0.8304\n",
            "epoch :128, \tloss :0.5418, \taccuracy :0.7857\n",
            "epoch :129, \tloss :0.4741, \taccuracy :0.8571\n",
            "epoch :130, \tloss :0.6396, \taccuracy :0.7232\n",
            "epoch :131, \tloss :0.6734, \taccuracy :0.6786\n",
            "epoch :132, \tloss :0.4837, \taccuracy :0.8393\n",
            "epoch :133, \tloss :0.6233, \taccuracy :0.7768\n",
            "epoch :134, \tloss :0.4539, \taccuracy :0.7946\n",
            "epoch :135, \tloss :0.517, \taccuracy :0.8036\n",
            "epoch :136, \tloss :0.6084, \taccuracy :0.7321\n",
            "epoch :137, \tloss :0.4595, \taccuracy :0.8393\n",
            "epoch :138, \tloss :0.6003, \taccuracy :0.7589\n",
            "epoch :139, \tloss :0.5208, \taccuracy :0.8393\n",
            "epoch :140, \tloss :0.5959, \taccuracy :0.7411\n",
            "epoch :141, \tloss :0.4828, \taccuracy :0.8125\n",
            "epoch :142, \tloss :0.5237, \taccuracy :0.7946\n",
            "epoch :143, \tloss :0.4634, \taccuracy :0.8661\n",
            "epoch :144, \tloss :0.4741, \taccuracy :0.8482\n",
            "epoch :145, \tloss :0.4698, \taccuracy :0.8304\n",
            "epoch :146, \tloss :0.4489, \taccuracy :0.8661\n",
            "epoch :147, \tloss :0.4766, \taccuracy :0.8214\n",
            "epoch :148, \tloss :0.5582, \taccuracy :0.75\n",
            "epoch :149, \tloss :0.5741, \taccuracy :0.7054\n",
            "epoch :150, \tloss :0.4765, \taccuracy :0.8393\n",
            "epoch :151, \tloss :0.4371, \taccuracy :0.8482\n",
            "epoch :152, \tloss :0.4137, \taccuracy :0.8393\n",
            "epoch :153, \tloss :0.5467, \taccuracy :0.7411\n",
            "epoch :154, \tloss :0.4638, \taccuracy :0.8393\n",
            "epoch :155, \tloss :0.5035, \taccuracy :0.7679\n",
            "epoch :156, \tloss :0.4528, \taccuracy :0.8661\n",
            "epoch :157, \tloss :0.5081, \taccuracy :0.7679\n",
            "epoch :158, \tloss :0.5005, \taccuracy :0.8304\n",
            "epoch :159, \tloss :0.4261, \taccuracy :0.8393\n",
            "epoch :160, \tloss :0.4254, \taccuracy :0.8571\n",
            "epoch :161, \tloss :0.3779, \taccuracy :0.8661\n",
            "epoch :162, \tloss :0.4406, \taccuracy :0.8571\n",
            "epoch :163, \tloss :0.408, \taccuracy :0.8304\n",
            "epoch :164, \tloss :0.5164, \taccuracy :0.7857\n",
            "epoch :165, \tloss :0.5352, \taccuracy :0.8214\n",
            "epoch :166, \tloss :0.4954, \taccuracy :0.8036\n",
            "epoch :167, \tloss :0.5082, \taccuracy :0.8036\n",
            "epoch :168, \tloss :0.4713, \taccuracy :0.7946\n",
            "epoch :169, \tloss :0.4776, \taccuracy :0.8393\n",
            "epoch :170, \tloss :0.5584, \taccuracy :0.7768\n",
            "epoch :171, \tloss :0.4596, \taccuracy :0.8482\n",
            "epoch :172, \tloss :0.5808, \taccuracy :0.7411\n",
            "epoch :173, \tloss :0.475, \taccuracy :0.7946\n",
            "epoch :174, \tloss :0.5215, \taccuracy :0.8125\n",
            "epoch :175, \tloss :0.4687, \taccuracy :0.8214\n",
            "epoch :176, \tloss :0.5345, \taccuracy :0.8036\n",
            "epoch :177, \tloss :0.4472, \taccuracy :0.8482\n",
            "epoch :178, \tloss :0.4709, \taccuracy :0.8125\n",
            "epoch :179, \tloss :0.4801, \taccuracy :0.8393\n",
            "epoch :180, \tloss :0.3969, \taccuracy :0.8482\n",
            "epoch :181, \tloss :0.4136, \taccuracy :0.875\n",
            "epoch :182, \tloss :0.4455, \taccuracy :0.8482\n",
            "epoch :183, \tloss :0.3799, \taccuracy :0.8482\n",
            "epoch :184, \tloss :0.4201, \taccuracy :0.8125\n",
            "epoch :185, \tloss :0.525, \taccuracy :0.7946\n",
            "epoch :186, \tloss :0.4052, \taccuracy :0.875\n",
            "epoch :187, \tloss :0.362, \taccuracy :0.8571\n",
            "epoch :188, \tloss :0.4112, \taccuracy :0.8304\n",
            "epoch :189, \tloss :0.3605, \taccuracy :0.9196\n",
            "epoch :190, \tloss :0.5069, \taccuracy :0.8125\n",
            "epoch :191, \tloss :0.4132, \taccuracy :0.8661\n",
            "epoch :192, \tloss :0.4515, \taccuracy :0.8125\n",
            "epoch :193, \tloss :0.4482, \taccuracy :0.8125\n",
            "epoch :194, \tloss :0.3858, \taccuracy :0.9018\n",
            "epoch :195, \tloss :0.5144, \taccuracy :0.7768\n",
            "epoch :196, \tloss :0.3951, \taccuracy :0.8571\n",
            "epoch :197, \tloss :0.3405, \taccuracy :0.9018\n",
            "epoch :198, \tloss :0.4164, \taccuracy :0.875\n",
            "epoch :199, \tloss :0.4533, \taccuracy :0.7946\n",
            "epoch :200, \tloss :0.5246, \taccuracy :0.7946\n"
          ]
        }
      ]
    },
    {
      "cell_type": "code",
      "source": [
        "# Plot result\n",
        "\n",
        "import matplotlib.pyplot as plt\n",
        "\n",
        "plt.figure(figsize=(20,5))\n",
        "plt.subplots_adjust(wspace=0.2)\n",
        "\n",
        "plt.subplot(1,2,1)\n",
        "plt.title(\"$loss$\",fontsize = 18)\n",
        "plt.plot(losses)\n",
        "plt.grid()\n",
        "plt.xlabel(\"$epochs$\", fontsize = 16)\n",
        "plt.xticks(fontsize = 14)\n",
        "plt.yticks(fontsize = 14)\n",
        "\n",
        "\n",
        "plt.subplot(1,2,2)\n",
        "plt.title(\"$accuracy$\", fontsize = 18)\n",
        "plt.plot(accuracies)\n",
        "plt.grid()\n",
        "plt.xlabel(\"$epochs$\", fontsize = 16)\n",
        "plt.xticks(fontsize = 14)\n",
        "plt.yticks(fontsize = 14)\n",
        "\n",
        "plt.show()"
      ],
      "metadata": {
        "id": "Fjn-rKyxjqzb",
        "outputId": "dae6dd6c-21d9-4a85-e588-624b23d10c05",
        "colab": {
          "base_uri": "https://localhost:8080/",
          "height": 286
        }
      },
      "execution_count": 19,
      "outputs": [
        {
          "output_type": "display_data",
          "data": {
            "text/plain": [
              "<Figure size 1440x360 with 2 Axes>"
            ],
            "image/png": "[encoded data removed]"
          },
          "metadata": {
            "needs_background": "light"
          }
        }
      ]
    },
    {
      "cell_type": "code",
      "source": [
        "# Test\n",
        "\n",
        "output = net(X_test)\n",
        "print(torch.max(output, dim=1))\n",
        "_, predicted = torch.max(output, dim=1)\n",
        "accuracy = round((predicted == y_test).sum().item() / len(y_test),4)\n",
        "\n",
        "print(\"test_set accuracy :\", round(accuracy,4))"
      ],
      "metadata": {
        "id": "UjCh7YtfkJex",
        "outputId": "22c6ed17-2415-4233-fb6d-10d9059f4358",
        "colab": {
          "base_uri": "https://localhost:8080/"
        }
      },
      "execution_count": 20,
      "outputs": [
        {
          "output_type": "stream",
          "name": "stdout",
          "text": [
            "torch.return_types.max(\n",
            "values=tensor([2.3861, 1.9261, 2.3415, 2.2331, 1.2488, 1.9138, 2.7206, 2.4466, 1.9955,\n",
            "        3.1570, 1.4882, 1.5565, 1.3800, 2.3602, 2.2313, 1.5208, 2.2276, 2.2821,\n",
            "        2.0685, 2.4935, 1.9491, 2.3118, 2.1626, 2.2274, 1.9191, 1.3492, 2.0527,\n",
            "        1.9943, 2.9358, 1.5155, 1.9678, 2.6133, 1.1787, 1.4281, 1.7383, 1.7070,\n",
            "        1.9354, 2.1061], grad_fn=<MaxBackward0>),\n",
            "indices=tensor([0, 1, 0, 1, 1, 0, 0, 0, 0, 2, 2, 1, 0, 0, 0, 1, 0, 0, 1, 2, 1, 0, 2, 0,\n",
            "        2, 2, 0, 2, 2, 2, 0, 2, 1, 2, 1, 2, 1, 0]))\n",
            "test_set accuracy : 0.9737\n"
          ]
        }
      ]
    },
    {
      "cell_type": "markdown",
      "source": [
        "Tensorflow-Tutorial(GradientTape, MLP)\n",
        "그래디언트 테이프\n",
        "자동미분을 위한 tf.GradientTape API제공\n",
        "tf.GradientTape는 모든 연산을 테이프에 기록\n",
        "후진 방식 자동 미분(reverse mode differetiation)을 사용해서 테이프에 기록된 연산 그래디언트 계산\n",
        "\n",
        "---\n",
        "\n"
      ],
      "metadata": {
        "id": "UhaH7tUPkhoJ"
      }
    },
    {
      "cell_type": "code",
      "source": [
        "import tensorflow as tf\n",
        "x = tf.ones((2, 2))\n",
        "# 1, 1\n",
        "# 1, 1\n",
        "with tf.GradientTape() as t:\n",
        "  t.watch(x)\n",
        "  #reduce_sum() : 특정 축을 기준으로 합을 구해줌, 아무것도 입력 안 하면 모든 요소의 합\n",
        "  y = tf.reduce_sum(x)\n",
        "  print('y: ', y)\n",
        "  z = tf.multiply(y, y)\n",
        "  print('z: ', z)\n",
        "\n",
        "# 입력 텐서 x에 대한 z의 도함수\n",
        "#\n",
        "dz_dx = t.gradient(z, x)\n",
        "print(dz_dx)\n",
        "for i in [0, 1]:\n",
        "  for j in [0, 1]:\n",
        "    # dz_dx[i][j]가 8이 아니면 AssertionError\n",
        "    assert dz_dx[i][j].numpy() == 8.0"
      ],
      "metadata": {
        "id": "P5jCO8xxkYMg",
        "outputId": "a2a6028e-ed30-4a91-a0b4-1e739c7eec45",
        "colab": {
          "base_uri": "https://localhost:8080/"
        }
      },
      "execution_count": 28,
      "outputs": [
        {
          "output_type": "stream",
          "name": "stdout",
          "text": [
            "y:  tf.Tensor(4.0, shape=(), dtype=float32)\n",
            "z:  tf.Tensor(16.0, shape=(), dtype=float32)\n",
            "tf.Tensor(\n",
            "[[8. 8.]\n",
            " [8. 8.]], shape=(2, 2), dtype=float32)\n"
          ]
        }
      ]
    },
    {
      "cell_type": "code",
      "source": [
        "x = tf.ones((2,2)\n",
        "\n",
        "with tf.GradientTape() as t:\n",
        "  t.watch(x)\n",
        "  y = tf.reduce_sum(x)\n",
        "  z= tf.multiply(y,y)\n",
        "\n",
        "#tf.GradientTape() 안에서 계산된 중간 값에 대한 그래디언트도 구할 수 있습니다.\n",
        "#테이프를 사용하여 중간값 Y에 대한 도함수를 계산합니다.\n",
        "\n",
        "\n",
        "dz_dy = t.gradient(z,y)\n",
        "assert dz_dy.numpy() == 8.0"
      ],
      "metadata": {
        "id": "0IPBE9dNmPXY",
        "outputId": "83e1ca96-c5db-4e13-cb6f-c6e41ebf10a5",
        "colab": {
          "base_uri": "https://localhost:8080/",
          "height": 137
        }
      },
      "execution_count": 34,
      "outputs": [
        {
          "output_type": "error",
          "ename": "SyntaxError",
          "evalue": "ignored",
          "traceback": [
            "\u001b[0;36m  File \u001b[0;32m\"<ipython-input-34-5f2ceb34e3f0>\"\u001b[0;36m, line \u001b[0;32m3\u001b[0m\n\u001b[0;31m    with tf.GradientTape() as t:\u001b[0m\n\u001b[0m       ^\u001b[0m\n\u001b[0;31mSyntaxError\u001b[0m\u001b[0;31m:\u001b[0m invalid syntax\n"
          ]
        }
      ]
    },
    {
      "cell_type": "code",
      "source": [
        "#GradientTape.gradient() 메소드가 호출되면 GradientTape에 포함된 리소스가 해제\n",
        "#동일한 연산에 대해 여러 gradient를 계산하려면 지속성있는(persistent=True) 그래디언트 테이프 생성하면됨\n",
        "#이렇게 생성한 그래디언트 테이프는 gradient()메소드의 다중 호출 허용\n",
        "x = tf.constant(3.0)\n",
        "print(x)\n",
        "with tf.GradientTape(persistent=True) as t:\n",
        "  t.watch(x)\n",
        "  y = x * x\n",
        "  z = y * y,     # z = x ^ 4\n",
        "dz_dx = t.gradient(z, x)  # 108.0 (4*x^3 at x = 3)\n",
        "print(dz_dx)\n",
        "dy_dx = t.gradient(y, x)  # 6.0   (2 * x at x = 3)\n",
        "print(dy_dx)\n",
        "del t  # 테이프에 대한 참조를 삭제합니다."
      ],
      "metadata": {
        "id": "bVtlU9a4l9vz",
        "outputId": "761db721-03f3-41c2-dac2-61a8645a032e",
        "colab": {
          "base_uri": "https://localhost:8080/"
        }
      },
      "execution_count": 33,
      "outputs": [
        {
          "output_type": "stream",
          "name": "stdout",
          "text": [
            "tf.Tensor(3.0, shape=(), dtype=float32)\n",
            "tf.Tensor(108.0, shape=(), dtype=float32)\n",
            "tf.Tensor(6.0, shape=(), dtype=float32)\n"
          ]
        }
      ]
    },
    {
      "cell_type": "code",
      "source": [
        "# 제어 흐름 기록\n",
        "def f(x, y):\n",
        "  output = 1.0\n",
        "  for i in range(y):\n",
        "    if i > 1 and i < 5:   #i가 2,3,4일 때 output*=x output은 x^n승\n",
        "      output = tf.multiply(output, x)\n",
        "  return output\n",
        "\n",
        "def grad(x, y):\n",
        "  with tf.GradientTape() as t:\n",
        "    t.watch(x)\n",
        "    out = f(x, y)\n",
        "  return t.gradient(out, x)\n",
        "\n",
        "x = tf.convert_to_tensor(2.0)\n",
        "print(x)\n",
        "\n",
        "print(grad(x, 6).numpy())\t#output=2^3->gradient=3*2^2\n",
        "assert grad(x, 6).numpy() == 12.0\n",
        "\n",
        "print(grad(x, 5).numpy())\t#output=2^3->gradient=3*2^2\n",
        "assert grad(x, 5).numpy() == 12.0\n",
        "\n",
        "print(grad(x, 4).numpy()) \t#output=2^2->gradient=2*2^1\n",
        "assert grad(x, 4).numpy() == 4.0"
      ],
      "metadata": {
        "id": "FoLSuLH8mClo",
        "outputId": "493e6445-1059-41cd-c1c3-1a60c0fbd166",
        "colab": {
          "base_uri": "https://localhost:8080/"
        }
      },
      "execution_count": 36,
      "outputs": [
        {
          "output_type": "stream",
          "name": "stdout",
          "text": [
            "tf.Tensor(2.0, shape=(), dtype=float32)\n",
            "12.0\n",
            "12.0\n",
            "4.0\n"
          ]
        }
      ]
    },
    {
      "cell_type": "code",
      "source": [
        "#고계도(Higher-order) 그래디언트\n",
        "x = tf.Variable(1.0) \n",
        "print(x)\n",
        "\n",
        "with tf.GradientTape() as t:\n",
        "  with tf.GradientTape() as t2:\n",
        "    y = x * x * x\n",
        "  dy_dx = t2.gradient(y, x)      # dy_dx = 3 * x^2 at x = 1\n",
        "d2y_dx2 = t.gradient(dy_dx, x)   # d2y_dx2 = 6 * x at x = 1\n",
        "\n",
        "assert dy_dx.numpy() == 3.0\n",
        "assert d2y_dx2.numpy() == 6.0\n",
        "print(dy_dx)\n",
        "print(d2y_dx2) "
      ],
      "metadata": {
        "id": "5lPBv5MOoQ5d",
        "outputId": "b38318dc-876d-40da-c4a4-dae67dfcc74d",
        "colab": {
          "base_uri": "https://localhost:8080/"
        }
      },
      "execution_count": 37,
      "outputs": [
        {
          "output_type": "stream",
          "name": "stdout",
          "text": [
            "<tf.Variable 'Variable:0' shape=() dtype=float32, numpy=1.0>\n",
            "tf.Tensor(3.0, shape=(), dtype=float32)\n",
            "tf.Tensor(6.0, shape=(), dtype=float32)\n"
          ]
        }
      ]
    },
    {
      "cell_type": "markdown",
      "source": [
        "ANN(Artificial Neural Network)\n",
        "Sequential 모델을 사용하는 경우\n",
        "Seuquential 모델은 각 레이어에 정확히 하나의 입력 Tensor와 하나의 출력 Tensor가 있는 일반 레이어 스택에 적합"
      ],
      "metadata": {
        "id": "6FUn7xxko_yn"
      }
    },
    {
      "cell_type": "code",
      "source": [
        "import tensorflow as tf\n",
        "from tensorflow import keras\n",
        "from tensorflow.keras import layers"
      ],
      "metadata": {
        "id": "ixiu26_go62i"
      },
      "execution_count": 38,
      "outputs": []
    },
    {
      "cell_type": "code",
      "source": [
        "# Define Sequential model with 3 layers\n",
        "model = keras.Sequential(\n",
        "    [\n",
        "        layers.Dense(2, activation=\"relu\", name=\"layer1\"),  # Pytorch - nn.Linear \n",
        "        layers.Dense(3, activation=\"relu\", name=\"layer2\"),\n",
        "        layers.Dense(4, name=\"layer3\"),\n",
        "    ]\n",
        ")\n",
        "\n",
        "# add() 메서드를 통해서 Sequential 모델을 점진적으로 작성할 수도 있음\n",
        "model = keras.Sequential()\n",
        "model.add(layers.Dense(2, activation=\"relu\"))\n",
        "model.add(layers.Dense(3, activation=\"relu\"))\n",
        "model.add(layers.Dense(4))\n",
        "\n",
        "# Call model on a test input\n",
        "x = tf.ones((3, 3))\n",
        "# [1, 1, 1] --> [o, o] --> [o, o, o] --> [o, o, o, o]\n",
        "y = model(x)\n",
        "print(y)"
      ],
      "metadata": {
        "id": "lQ-giPUHpGRN",
        "outputId": "e2abfc3e-9b1b-4558-c6a1-25b7b98c8be3",
        "colab": {
          "base_uri": "https://localhost:8080/"
        }
      },
      "execution_count": 40,
      "outputs": [
        {
          "output_type": "stream",
          "name": "stdout",
          "text": [
            "tf.Tensor(\n",
            "[[ 0.6735632 -0.4961022 -0.6452098 -0.2910317]\n",
            " [ 0.6735632 -0.4961022 -0.6452098 -0.2910317]\n",
            " [ 0.6735632 -0.4961022 -0.6452098 -0.2910317]], shape=(3, 4), dtype=float32)\n"
          ]
        }
      ]
    },
    {
      "cell_type": "markdown",
      "source": [
        "패션 MNIST를 사용한 분류 문제\n",
        "10개의 카테고리, 70000개의 흑백이미지(28*28)\n",
        "\n",
        "훈련에 60000개, 평가에 10000개 사용"
      ],
      "metadata": {
        "id": "KpbhBCtVqVXS"
      }
    },
    {
      "cell_type": "code",
      "source": [
        "# tensorflow와 tf.keras를 임포트합니다\n",
        "import tensorflow as tf\n",
        "from tensorflow import keras\n",
        "\n",
        "# 헬퍼(helper) 라이브러리를 임포트합니다\n",
        "import numpy as np\n",
        "import matplotlib.pyplot as plt\n",
        "\n",
        "fashion_mnist = keras.datasets.fashion_mnist\n",
        "(train_images, train_labels), (test_images, test_labels) = fashion_mnist.load_data()"
      ],
      "metadata": {
        "id": "BugN2FACpItf",
        "outputId": "c5d4c4e6-61c4-482c-f0b6-318a42b6d96f",
        "colab": {
          "base_uri": "https://localhost:8080/"
        }
      },
      "execution_count": 41,
      "outputs": [
        {
          "output_type": "stream",
          "name": "stdout",
          "text": [
            "Downloading data from https://storage.googleapis.com/tensorflow/tf-keras-datasets/train-labels-idx1-ubyte.gz\n",
            "32768/29515 [=================================] - 0s 0us/step\n",
            "40960/29515 [=========================================] - 0s 0us/step\n",
            "Downloading data from https://storage.googleapis.com/tensorflow/tf-keras-datasets/train-images-idx3-ubyte.gz\n",
            "26427392/26421880 [==============================] - 0s 0us/step\n",
            "26435584/26421880 [==============================] - 0s 0us/step\n",
            "Downloading data from https://storage.googleapis.com/tensorflow/tf-keras-datasets/t10k-labels-idx1-ubyte.gz\n",
            "16384/5148 [===============================================================================================] - 0s 0us/step\n",
            "Downloading data from https://storage.googleapis.com/tensorflow/tf-keras-datasets/t10k-images-idx3-ubyte.gz\n",
            "4423680/4422102 [==============================] - 0s 0us/step\n",
            "4431872/4422102 [==============================] - 0s 0us/step\n"
          ]
        }
      ]
    },
    {
      "cell_type": "code",
      "source": [
        "class_names = ['T-shirt/top', 'Trouser', 'Pullover', 'Dress', 'Coat',\n",
        "               'Sandal', 'Shirt', 'Sneaker', 'Bag', 'Ankle boot']"
      ],
      "metadata": {
        "id": "QY4h8ZeuqZrA"
      },
      "execution_count": 42,
      "outputs": []
    },
    {
      "cell_type": "code",
      "source": [
        "train_images.shape\n",
        "test_images.shape"
      ],
      "metadata": {
        "id": "zt_3UoS7q4yl",
        "outputId": "2118a5da-02d2-4569-a8d4-c65d881c24d8",
        "colab": {
          "base_uri": "https://localhost:8080/"
        }
      },
      "execution_count": 48,
      "outputs": [
        {
          "output_type": "execute_result",
          "data": {
            "text/plain": [
              "(10000, 28, 28)"
            ]
          },
          "metadata": {},
          "execution_count": 48
        }
      ]
    },
    {
      "cell_type": "code",
      "source": [
        "#훈련데이터의 첫번째이미지\n",
        "plt.figure()\n",
        "plt.imshow(train_images[0])\n",
        "plt.colorbar()\n",
        "plt.grid(False)\n",
        "plt.show"
      ],
      "metadata": {
        "id": "hUvzh3oIrA8p",
        "outputId": "1ee41cec-a238-4572-c3b4-2ad95c6dab6f",
        "colab": {
          "base_uri": "https://localhost:8080/",
          "height": 283
        }
      },
      "execution_count": 51,
      "outputs": [
        {
          "output_type": "execute_result",
          "data": {
            "text/plain": [
              "<function matplotlib.pyplot.show(*args, **kw)>"
            ]
          },
          "metadata": {},
          "execution_count": 51
        },
        {
          "output_type": "display_data",
          "data": {
            "text/plain": [
              "<Figure size 432x288 with 2 Axes>"
            ],
            "image/png": "[encoded data removed]"
          },
          "metadata": {
            "needs_background": "light"
          }
        }
      ]
    },
    {
      "cell_type": "code",
      "source": [
        "#데이터 전처리\n",
        "# 신경망 모델에 주입하기 전에 값의 범위를 0~1로 조정\n",
        "train_images = train_images / 255.0\n",
        "test_images = test_images / 255.0"
      ],
      "metadata": {
        "id": "AmjV1RCmqcC6"
      },
      "execution_count": 52,
      "outputs": []
    },
    {
      "cell_type": "code",
      "source": [
        "train_images.shape\n",
        "test_images.shape"
      ],
      "metadata": {
        "id": "qiYkSyAkquX6",
        "outputId": "21e21167-aab2-463b-a3d6-3874a0585ec3",
        "colab": {
          "base_uri": "https://localhost:8080/"
        }
      },
      "execution_count": 47,
      "outputs": [
        {
          "output_type": "execute_result",
          "data": {
            "text/plain": [
              "(10000, 28, 28)"
            ]
          },
          "metadata": {},
          "execution_count": 47
        }
      ]
    },
    {
      "cell_type": "code",
      "source": [
        "#모델구성\n",
        "model = keras.Sequential([\n",
        "    keras.layers.Flatten(input_shape=(28, 28)),\n",
        "    keras.layers.Dense(128, activation='relu'),\n",
        "    keras.layers.Dense(10, activation='softmax')\n",
        "])\n",
        "model.summary()"
      ],
      "metadata": {
        "id": "8BDS3dm8qgVy",
        "outputId": "3a79eb60-541f-4147-9f2f-28c3c07d5645",
        "colab": {
          "base_uri": "https://localhost:8080/"
        }
      },
      "execution_count": 45,
      "outputs": [
        {
          "output_type": "stream",
          "name": "stdout",
          "text": [
            "Model: \"sequential_3\"\n",
            "_________________________________________________________________\n",
            " Layer (type)                Output Shape              Param #   \n",
            "=================================================================\n",
            " flatten (Flatten)           (None, 784)               0         \n",
            "                                                                 \n",
            " dense_3 (Dense)             (None, 128)               100480    \n",
            "                                                                 \n",
            " dense_4 (Dense)             (None, 10)                1290      \n",
            "                                                                 \n",
            "=================================================================\n",
            "Total params: 101,770\n",
            "Trainable params: 101,770\n",
            "Non-trainable params: 0\n",
            "_________________________________________________________________\n"
          ]
        }
      ]
    },
    {
      "cell_type": "code",
      "source": [
        "plt.figure(figsize=(10,10))\n",
        "for i in range(25):\n",
        "  plt.subplot(5,5,i+1)\n",
        "  plt.xticks([])\n",
        "  plt.yticks([])\n",
        "  plt.grid(False)\n",
        "  plt.imshow(train_images[i], cmap=plt.cm.binary)\n",
        "  plt.xlabel(class_names[train_labels[i]])\n",
        "plt.show"
      ],
      "metadata": {
        "id": "pa0DovSAqkPW",
        "outputId": "07dac35e-5de1-4e14-8e6a-219bed7a18eb",
        "colab": {
          "base_uri": "https://localhost:8080/",
          "height": 607
        }
      },
      "execution_count": 55,
      "outputs": [
        {
          "output_type": "execute_result",
          "data": {
            "text/plain": [
              "<function matplotlib.pyplot.show(*args, **kw)>"
            ]
          },
          "metadata": {},
          "execution_count": 55
        },
        {
          "output_type": "display_data",
          "data": {
            "text/plain": [
              "<Figure size 720x720 with 25 Axes>"
            ],
            "image/png": "[encoded data removed]"
          },
          "metadata": {}
        }
      ]
    },
    {
      "cell_type": "code",
      "source": [
        "model = keras.Sequential([\n",
        "    keras.layers.Flatten(input_shape=(28, 28)),\n",
        "    keras.layers.Dense(128, activation='relu'),\n",
        "    keras.layers.Dense(10, activation='softmax')\n",
        "])\n",
        "model.summary()"
      ],
      "metadata": {
        "id": "oAQuqLlDs3fq",
        "outputId": "e2d8ecb6-0cff-49c1-d918-2ef3f94c712a",
        "colab": {
          "base_uri": "https://localhost:8080/"
        }
      },
      "execution_count": 56,
      "outputs": [
        {
          "output_type": "stream",
          "name": "stdout",
          "text": [
            "Model: \"sequential_4\"\n",
            "_________________________________________________________________\n",
            " Layer (type)                Output Shape              Param #   \n",
            "=================================================================\n",
            " flatten_1 (Flatten)         (None, 784)               0         \n",
            "                                                                 \n",
            " dense_5 (Dense)             (None, 128)               100480    \n",
            "                                                                 \n",
            " dense_6 (Dense)             (None, 10)                1290      \n",
            "                                                                 \n",
            "=================================================================\n",
            "Total params: 101,770\n",
            "Trainable params: 101,770\n",
            "Non-trainable params: 0\n",
            "_________________________________________________________________\n"
          ]
        }
      ]
    },
    {
      "cell_type": "code",
      "source": [
        "keras.utils.plot_model(model, show_shapes=True)"
      ],
      "metadata": {
        "id": "oj8-3SuMs-_d",
        "outputId": "9b1fdf7e-3a47-4f4c-e504-d9450fa3aff3",
        "colab": {
          "base_uri": "https://localhost:8080/",
          "height": 422
        }
      },
      "execution_count": 57,
      "outputs": [
        {
          "output_type": "execute_result",
          "data": {
            "image/png": "[encoded data removed]",
            "text/plain": [
              "<IPython.core.display.Image object>"
            ]
          },
          "metadata": {},
          "execution_count": 57
        }
      ]
    },
    {
      "cell_type": "code",
      "source": [
        "model.compile(optimizer='adam', # SGD, SGD + momentum\n",
        "              loss='sparse_categorical_crossentropy',\n",
        "              metrics=['accuracy'])\n",
        "model.fit(train_images, train_labels, epochs=5)"
      ],
      "metadata": {
        "id": "Dm3O9XV2tDLz",
        "outputId": "39dda46b-b57e-4bd4-daf8-e194d12bb079",
        "colab": {
          "base_uri": "https://localhost:8080/"
        }
      },
      "execution_count": 58,
      "outputs": [
        {
          "output_type": "stream",
          "name": "stdout",
          "text": [
            "Epoch 1/5\n",
            "1875/1875 [==============================] - 9s 4ms/step - loss: 2.3027 - accuracy: 0.1002\n",
            "Epoch 2/5\n",
            "1875/1875 [==============================] - 8s 4ms/step - loss: 2.3020 - accuracy: 0.1043\n",
            "Epoch 3/5\n",
            "1875/1875 [==============================] - 5s 2ms/step - loss: 2.2991 - accuracy: 0.1462\n",
            "Epoch 4/5\n",
            "1875/1875 [==============================] - 7s 4ms/step - loss: 2.2920 - accuracy: 0.1697\n",
            "Epoch 5/5\n",
            "1875/1875 [==============================] - 7s 4ms/step - loss: 2.2806 - accuracy: 0.1818\n"
          ]
        },
        {
          "output_type": "execute_result",
          "data": {
            "text/plain": [
              "<keras.callbacks.History at 0x7f58d35c29d0>"
            ]
          },
          "metadata": {},
          "execution_count": 58
        }
      ]
    },
    {
      "cell_type": "code",
      "source": [
        "test_loss, test_acc = model.evaluate(test_images,  test_labels, verbose=2)\n",
        "\n",
        "print(\"Test loss:\", test_loss)\n",
        "print(\"Test accuracy:\", test_acc)"
      ],
      "metadata": {
        "id": "XVBb8vdItFul",
        "outputId": "2bf6979c-018e-4717-8019-583fe0ddddfe",
        "colab": {
          "base_uri": "https://localhost:8080/"
        }
      },
      "execution_count": 59,
      "outputs": [
        {
          "output_type": "stream",
          "name": "stdout",
          "text": [
            "313/313 - 1s - loss: 2.2733 - accuracy: 0.2632 - 561ms/epoch - 2ms/step\n",
            "Test loss: 2.273280143737793\n",
            "Test accuracy: 0.2632000148296356\n"
          ]
        }
      ]
    },
    {
      "cell_type": "code",
      "source": [
        "# 훈련된 모델을 사용하여 이미지에 대한 예측 만들기\n",
        "predictions = model.predict(test_images)\n",
        "# 테스트 세트에 있는 각 이미지에 대한 예측을 진행한 후, 첫번째 예측 값\n",
        "# 10개의 옷 품목에 상응하는 모델의 신뢰도(confidence)를 나타냄\n",
        "predictions[0]"
      ],
      "metadata": {
        "id": "U60gOeO_tKF4",
        "outputId": "cc0b5d3f-db5d-43bf-c7e5-d4ac8413c04c",
        "colab": {
          "base_uri": "https://localhost:8080/"
        }
      },
      "execution_count": 60,
      "outputs": [
        {
          "output_type": "execute_result",
          "data": {
            "text/plain": [
              "array([0.09607507, 0.10399205, 0.09256242, 0.10037293, 0.09349415,\n",
              "       0.10779461, 0.09404459, 0.10557761, 0.10061433, 0.10547216],\n",
              "      dtype=float32)"
            ]
          },
          "metadata": {},
          "execution_count": 60
        }
      ]
    },
    {
      "cell_type": "code",
      "source": [
        "# 가장 높은 신뢰도를 가진 레이블 출력\n",
        "print(np.argmax(predictions[0]))\n",
        "# 실제 테스트 데이터의 0번째 값\n",
        "print(test_labels[0])"
      ],
      "metadata": {
        "id": "GCNf3m_MtL0p",
        "outputId": "17795dbf-da10-4428-9f00-5dd55335a319",
        "colab": {
          "base_uri": "https://localhost:8080/"
        }
      },
      "execution_count": 61,
      "outputs": [
        {
          "output_type": "stream",
          "name": "stdout",
          "text": [
            "5\n",
            "9\n"
          ]
        }
      ]
    },
    {
      "cell_type": "code",
      "source": [
        "# 10개의 클래스에 대한 예측을 모두 그래프로 표현\n",
        "# 올바르게 예측된 레이블은 파란색으로, 잘못 예측된 레이블은 빨강색으로 표현\n",
        "# 숫자는 예측 레이블의 신뢰도 퍼센트\n",
        "def plot_image(i, predictions_array, true_label, img):\n",
        "  predictions_array, true_label, img = predictions_array[i], true_label[i], img[i]\n",
        "  plt.grid(False)\n",
        "  plt.xticks([])\n",
        "  plt.yticks([])\n",
        "\n",
        "  plt.imshow(img, cmap=plt.cm.binary)\n",
        "\n",
        "  predicted_label = np.argmax(predictions_array)\n",
        "  if predicted_label == true_label:\n",
        "    color = 'blue'\n",
        "  else:\n",
        "    color = 'red'\n",
        "\n",
        "  plt.xlabel(\"{} {:2.0f}% ({})\".format(class_names[predicted_label],\n",
        "                                100*np.max(predictions_array),\n",
        "                                class_names[true_label]),\n",
        "                                color=color)\n",
        "\n",
        "def plot_value_array(i, predictions_array, true_label):\n",
        "  predictions_array, true_label = predictions_array[i], true_label[i]\n",
        "  plt.grid(False)\n",
        "  plt.xticks([])\n",
        "  plt.yticks([])\n",
        "  thisplot = plt.bar(range(10), predictions_array, color=\"#777777\")\n",
        "  plt.ylim([0, 1])\n",
        "  predicted_label = np.argmax(predictions_array)\n",
        "\n",
        "  thisplot[predicted_label].set_color('red')\n",
        "  thisplot[true_label].set_color('blue')"
      ],
      "metadata": {
        "id": "Vh_PtraLtNSg"
      },
      "execution_count": 62,
      "outputs": []
    },
    {
      "cell_type": "code",
      "source": [
        "# 처음 X 개의 테스트 이미지와 예측 레이블, 진짜 레이블을 출력합니다\n",
        "num_rows = 5\n",
        "num_cols = 3\n",
        "num_images = num_rows*num_cols\n",
        "plt.figure(figsize=(2*2*num_cols, 2*num_rows))\n",
        "for i in range(num_images):\n",
        "  plt.subplot(num_rows, 2*num_cols, 2*i+1)\n",
        "  plot_image(i, predictions, test_labels, test_images)\n",
        "  plt.subplot(num_rows, 2*num_cols, 2*i+2)\n",
        "  plot_value_array(i, predictions, test_labels)\n",
        "plt.show()"
      ],
      "metadata": {
        "id": "q5lTIWJEtPQY",
        "outputId": "09289ff3-a9c6-4729-f8d2-939c3d033a32",
        "colab": {
          "base_uri": "https://localhost:8080/",
          "height": 589
        }
      },
      "execution_count": 63,
      "outputs": [
        {
          "output_type": "display_data",
          "data": {
            "text/plain": [
              "<Figure size 864x720 with 30 Axes>"
            ],
            "image/png": "[encoded data removed]"
          },
          "metadata": {}
        }
      ]
    }
  ]
}