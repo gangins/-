{
  "nbformat": 4,
  "nbformat_minor": 0,
  "metadata": {
    "colab": {
      "provenance": [],
      "authorship_tag": "ABX9TyPPElpuoPemKiJQ4ffl7B4B",
      "include_colab_link": true
    },
    "kernelspec": {
      "name": "python3",
      "display_name": "Python 3"
    },
    "language_info": {
      "name": "python"
    }
  },
  "cells": [
    {
      "cell_type": "markdown",
      "metadata": {
        "id": "view-in-github",
        "colab_type": "text"
      },
      "source": [
        "<a href=\"https://colab.research.google.com/github/gangins/-/blob/main/10~12.ipynb\" target=\"_parent\"><img src=\"https://colab.research.google.com/assets/colab-badge.svg\" alt=\"Open In Colab\"/></a>"
      ]
    },
    {
      "cell_type": "code",
      "execution_count": 37,
      "metadata": {
        "id": "p6bEUiPUtwc9",
        "colab": {
          "base_uri": "https://localhost:8080/"
        },
        "outputId": "86d08b45-448e-4e2c-8cbd-987b618a9cec"
      },
      "outputs": [
        {
          "output_type": "stream",
          "name": "stdout",
          "text": [
            "[1, 2, 3, 4, 5, 6, 7, 8, 9, 10]\n"
          ]
        }
      ],
      "source": [
        "#쉽게 설명한  병합정렬\n",
        "#입력 : 리스트 a\n",
        "#출력 : 정렬된 새 리스트\n",
        "\n",
        "def merge_sort(a):\n",
        "  n = len(a)\n",
        "  #종료조건 : 정렬할 리스트의 자료개수가 한 개 이하이면 정렬할 필요 없음\n",
        "  if n <= 1:\n",
        "    return a\n",
        "    # 그룹을 나누어 가각 병합 정렬을 호출하는 과정\n",
        "  mid = n // 2\n",
        "  g1 = merge_sort(a[:mid])\n",
        "  g2 = merge_sort(a[mid:])\n",
        "\n",
        "    # 두 그룹을 하나로병합\n",
        "  result = []\n",
        "\n",
        "  while g1 and g2:\n",
        "      if g1[0] < g2[0]:\n",
        "        result.append(g1.pop(0))\n",
        "\n",
        "      else:\n",
        "        result.append(g2.pop(0))\n",
        "\n",
        "  while g1:\n",
        "        result.append(g1.pop(0))\n",
        "  while g2:\n",
        "\n",
        "        result.append(g2.pop(0))\n",
        "      \n",
        "  return result\n",
        "\n",
        "d = [6, 8, 3, 9, 10, 1, 2, 4, 7, 5]\n",
        "print(merge_sort(d))"
      ]
    },
    {
      "cell_type": "code",
      "source": [
        "#병합정렬\n",
        "#입력 : 리스트 a\n",
        "#출력: 없음(입력으로 주어진 a가 정렬됨)\n",
        "\n",
        "def merge_sort(a):\n",
        "  n = len(a)\n",
        "  #종료 조건 : 정렬할 리스트의 자료 개수가 한개 이하면 정렬할 필요가 없음\n",
        "\n",
        "  if n <=1 :\n",
        "    return\n",
        "\n",
        "  mid = n // 2# 병합 정렬\n",
        "# 입력: 리스트 a\n",
        "# 출력: 없음(입력으로 주어진 a가 정렬됨)\n",
        "\n",
        "def merge_sort(a):\n",
        "    n = len(a)\n",
        "    # 종료 조건: 정렬할 리스트의 자료 개수가 한 개 이하이면 정렬할 필요가 없음\n",
        "    if n <= 1:\n",
        "        return a\n",
        "    # 그룹을 나누어 각각 병합 정렬을 호출하는 과정\n",
        "    mid = n // 2    # 중간을 기준으로 두 그룹으로 나눔\n",
        "    g1 = a[:mid]\n",
        "    g2 = a[mid:]\n",
        "    merge_sort(g1)  # 재귀 호출로 첫 번째 그룹을 정렬\n",
        "    merge_sort(g2)  # 재귀 호출로 두 번째 그룹을 정렬\n",
        "    # 두 그룹을 하나로 병합\n",
        "    i1 = 0\n",
        "    i2 = 0\n",
        "    ia = 0\n",
        "\n",
        "    while i1 < len(g1) and i2 < len(g2):\n",
        "        if g1[i1] < g2[i2]:\n",
        "            a[ia] = g1[i1]\n",
        "            i1 += 1\n",
        "            ia += 1\n",
        "        else:\n",
        "            a[ia] = g2[i2]\n",
        "            i2 += 1\n",
        "            ia += 1\n",
        "    # 아직 남아 있는 자료들을 결과에 추가\n",
        "    while i1 < len(g1):\n",
        "        a[ia] = g1[i1]\n",
        "        i1 += 1\n",
        "        ia += 1\n",
        "    while i2 < len(g2):\n",
        "        a[ia] = g2[i2]\n",
        "        i2 += 1\n",
        "        ia += 1\n",
        "\n",
        "d = [6, 8, 3, 9, 10, 1, 2, 4, 7, 5]\n",
        "merge_sort(d)\n",
        "print(d)\n"
      ],
      "metadata": {
        "colab": {
          "base_uri": "https://localhost:8080/"
        },
        "id": "UnAzQxCr9GO1",
        "outputId": "4c6eea56-87b4-4161-9a28-5bc037ce5092"
      },
      "execution_count": 34,
      "outputs": [
        {
          "output_type": "stream",
          "name": "stdout",
          "text": [
            "[1, 2, 3, 4, 5, 6, 7, 8, 9, 10]\n"
          ]
        }
      ]
    },
    {
      "cell_type": "code",
      "source": [
        "#병합정렬\n",
        "#입력 : 리스트 a\n",
        "#출력: 없음(입력으로 주어진 a가 정렬됨)\n",
        "\n",
        "def merge_sort(a):\n",
        "  n = len(a)\n",
        "  #종료 조건 : 정렬할 리스트의 자료 개수가 한개 이하면 정렬할 필요가 없음\n",
        "\n",
        "  if n <=1 :\n",
        "    return\n",
        "\n",
        "  mid = n // 2# 병합 정렬\n",
        "# 입력: 리스트 a\n",
        "# 출력: 없음(입력으로 주어진 a가 정렬됨)\n",
        "\n",
        "def merge_sort(a):\n",
        "    n = len(a)\n",
        "    # 종료 조건: 정렬할 리스트의 자료 개수가 한 개 이하이면 정렬할 필요가 없음\n",
        "    if n <= 1:\n",
        "        return a\n",
        "    # 그룹을 나누어 각각 병합 정렬을 호출하는 과정\n",
        "    mid = n // 2    # 중간을 기준으로 두 그룹으로 나눔\n",
        "    g1 = a[:mid]\n",
        "    g2 = a[mid:]\n",
        "    merge_sort(g1)  # 재귀 호출로 첫 번째 그룹을 정렬\n",
        "    merge_sort(g2)  # 재귀 호출로 두 번째 그룹을 정렬\n",
        "    # 두 그룹을 하나로 병합\n",
        "    i1 = 0\n",
        "    i2 = 0\n",
        "    ia = 0\n",
        "\n",
        "    while i1 < len(g1) and i2 < len(g2):\n",
        "        if g1[i1] > g2[i2]:\n",
        "            a[ia] = g1[i1]\n",
        "            i1 += 1\n",
        "            ia += 1\n",
        "        else:\n",
        "            a[ia] = g2[i2]\n",
        "            i2 += 1\n",
        "            ia += 1\n",
        "    # 아직 남아 있는 자료들을 결과에 추가\n",
        "    while i1 < len(g1):\n",
        "        a[ia] = g1[i1]\n",
        "        i1 += 1\n",
        "        ia += 1\n",
        "    while i2 < len(g2):\n",
        "        a[ia] = g2[i2]\n",
        "        i2 += 1\n",
        "        ia += 1\n",
        "\n",
        "d = [6, 8, 3, 9, 10, 1, 2, 4, 7, 5]\n",
        "merge_sort(d)\n",
        "print(d)\n"
      ],
      "metadata": {
        "colab": {
          "base_uri": "https://localhost:8080/"
        },
        "id": "U8XtbxumPieN",
        "outputId": "ee1ce078-1688-45e0-a1a4-08c41ad5f8b7"
      },
      "execution_count": 36,
      "outputs": [
        {
          "output_type": "stream",
          "name": "stdout",
          "text": [
            "[10, 9, 8, 7, 6, 5, 4, 3, 2, 1]\n"
          ]
        }
      ]
    },
    {
      "cell_type": "code",
      "source": [
        "# 쉽게 설명한 퀵정렬\n",
        "# 입력 :리스트 a\n",
        "# 출력 : 정렬된 새 리스트\n",
        "\n",
        "def quick_sort(a):\n",
        "  n =len(a)\n",
        "\n",
        "  if n<=1:\n",
        "    return a\n",
        "\n",
        "  pivot = a[-1]\n",
        "  g1 = []\n",
        "  g2 = []\n",
        "\n",
        "  for i in range(0, n-1):\n",
        "    if a[i] < pivot:\n",
        "      g1.append(a[i])\n",
        "    else:\n",
        "      g2.append(a[i])\n",
        "\n",
        "    return quick_sort(g1) + [pivot] + quick_sort(g2)\n",
        "\n",
        "d = [6, 8, 3, 9, 10, 1, 2, 4, 7, 5]\n",
        "print(merge_sort(d))"
      ],
      "metadata": {
        "colab": {
          "base_uri": "https://localhost:8080/"
        },
        "id": "FFgMGRNMQZi0",
        "outputId": "b92cb4d3-59db-46c3-da93-303f6b0b5e32"
      },
      "execution_count": 38,
      "outputs": [
        {
          "output_type": "stream",
          "name": "stdout",
          "text": [
            "[1, 2, 3, 4, 5, 6, 7, 8, 9, 10]\n"
          ]
        }
      ]
    },
    {
      "cell_type": "code",
      "source": [
        "def quick_sort_sub(a, start, end):\n",
        " \n",
        "\n",
        "  if end - start <=0:\n",
        "    return \n",
        "\n",
        "  pivot = a[end]\n",
        "  i = start\n",
        "\n",
        "  for j in range(start, end):\n",
        "      if a[j] <= pivot:\n",
        "        a[i], a[j] = a[j], a[i]\n",
        "        i += 1\n",
        "    \n",
        "  a[i], a[end] = a[end], a[i]\n",
        "\n",
        "  quick_sort_sub(a, start, i - 1)\n",
        "  quick_sort_sub(a, i + 1, end)\n",
        "\n",
        "def quick_sort(a):\n",
        "  quick_sort_sub(a, 0, len(a)-1)\n",
        "\n",
        "d = [6, 8, 3, 9, 10, 1, 2, 4, 7, 5]\n",
        "quick_sort(d)\n",
        "print(d)"
      ],
      "metadata": {
        "colab": {
          "base_uri": "https://localhost:8080/"
        },
        "id": "mM36tNhnSPmG",
        "outputId": "98230c51-7152-4a0c-f46a-41c32238a8e7"
      },
      "execution_count": 42,
      "outputs": [
        {
          "output_type": "stream",
          "name": "stdout",
          "text": [
            "[1, 2, 3, 4, 5, 6, 7, 8, 9, 10]\n"
          ]
        }
      ]
    },
    {
      "cell_type": "code",
      "source": [
        "def bubble_sort(a):\n",
        "    n = len(a)\n",
        "    while True:     # 정렬이 완료될 때까지 계속 수행\n",
        "        changed = False     # 자료를 앞뒤로 바꾸었는지 여부\n",
        "        # 자료를 훑어보면서 뒤집힌 자료가 있으면 바꾸고 바뀌었다고 표시\n",
        "        for i in range(0, n-1):\n",
        "            if a[i] > a[i+1]:   # 앞이 뒤보다 크면\n",
        "                print(a)        # 정렬 과정 출력(참고용)\n",
        "                a[i], a[i+1] = a[i+1], a[i]     # 두 자료의 위치를 맞바꿈\n",
        "                changed = True  # 자료가 앞뒤로 바뀌었음을 기록\n",
        "        # 자료를 한 번 훑어보는 동안 바뀐 적이 없다면 정렬이 완성된 것이므로 종료\n",
        "        # 바뀐 적이 있으면 다시 앞에서부터 비교 반복\n",
        "        if changed == False:\n",
        "            return\n",
        "\n",
        "d = [2, 4, 5, 1, 3]\n",
        "bubble_sort(d)\n",
        "print(d)"
      ],
      "metadata": {
        "colab": {
          "base_uri": "https://localhost:8080/"
        },
        "id": "4gDHWmj5UcBk",
        "outputId": "f44b7984-d19a-4e59-f9f2-9e0b673a669b"
      },
      "execution_count": 40,
      "outputs": [
        {
          "output_type": "stream",
          "name": "stdout",
          "text": [
            "[2, 4, 5, 1, 3]\n",
            "[2, 4, 1, 5, 3]\n",
            "[2, 4, 1, 3, 5]\n",
            "[2, 1, 4, 3, 5]\n",
            "[2, 1, 3, 4, 5]\n",
            "[1, 2, 3, 4, 5]\n"
          ]
        }
      ]
    },
    {
      "cell_type": "code",
      "source": [
        "def binary_search(a,x):\n",
        "  start = 0 \n",
        "  end = len(a) -1 \n",
        "\n",
        "  while start <= end:\n",
        "    mid = (start + end) //2\n",
        "    if x == a[mid]:\n",
        "      return mid\n",
        "\n",
        "    elif x > a[mid]:\n",
        "      start = mid +1\n",
        "    else : \n",
        "      end = mid -1\n",
        "\n",
        "  return -1\n",
        "\n",
        "\n",
        "d = [1, 4, 9, 16, 25, 36, 49, 64, 81]\n",
        "print(binary_search(d,36))\n",
        "print(binary_search(d,50))"
      ],
      "metadata": {
        "colab": {
          "base_uri": "https://localhost:8080/"
        },
        "id": "HEErOYeUVO68",
        "outputId": "e7fd1ab4-385b-4e81-de8e-6f8fc6d4b490"
      },
      "execution_count": 43,
      "outputs": [
        {
          "output_type": "stream",
          "name": "stdout",
          "text": [
            "5\n",
            "-1\n"
          ]
        }
      ]
    },
    {
      "cell_type": "code",
      "source": [
        "def binary_search_sub(a,x,start,end):\n",
        "  if start> end:\n",
        "    return -1\n",
        "\n",
        "  mid = (start +end) //2\n",
        "  if x == a[mid]:\n",
        "    return mid\n",
        "  \n",
        "  elif x > a[mid]:\n",
        "    return binary_search_sub(a,x,mid+1,end)\n",
        "\n",
        "  else:\n",
        "    return binary_search_sub(a,x,start,mid-1)\n",
        "\n",
        "  return -1\n",
        "\n",
        "\n",
        "def binary_search(a, x):\n",
        "  return binary_search_sub(a,x,0,len(a)-1)\n",
        "\n",
        "d = [1, 4, 9, 16, 25, 36, 49, 64, 81]\n",
        "print(binary_search(d,36))\n",
        "print(binary_search(d,50))"
      ],
      "metadata": {
        "colab": {
          "base_uri": "https://localhost:8080/"
        },
        "id": "VkQHwy6MgyCW",
        "outputId": "4b88621d-fe5a-4f6c-9035-eda70dd7ceeb"
      },
      "execution_count": 44,
      "outputs": [
        {
          "output_type": "stream",
          "name": "stdout",
          "text": [
            "5\n",
            "-1\n"
          ]
        }
      ]
    }
  ]
}